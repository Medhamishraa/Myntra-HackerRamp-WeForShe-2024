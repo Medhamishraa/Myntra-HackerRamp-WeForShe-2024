{
  "nbformat": 4,
  "nbformat_minor": 0,
  "metadata": {
    "colab": {
      "provenance": [],
      "gpuType": "T4"
    },
    "kernelspec": {
      "name": "python3",
      "display_name": "Python 3"
    },
    "language_info": {
      "name": "python"
    },
    "accelerator": "GPU"
  },
  "cells": [
    {
      "cell_type": "markdown",
      "source": [
        "Step 0: Load Packages and Libraries"
      ],
      "metadata": {
        "id": "3tUnXMPaQFgV"
      }
    },
    {
      "cell_type": "code",
      "execution_count": null,
      "metadata": {
        "id": "r5I90clfF9YL"
      },
      "outputs": [],
      "source": [
        "import pandas as pd\n",
        "import numpy as np\n",
        "import matplotlib.pyplot as plt\n",
        "import seaborn as sns\n",
        "\n",
        "from sklearn.metrics.pairwise import cosine_similarity\n",
        "from sklearn.feature_extraction.text import TfidfVectorizer\n",
        "\n",
        "import os\n",
        "from scipy.sparse import coo_matrix"
      ]
    },
    {
      "cell_type": "markdown",
      "source": [
        "Step 1: Data Loading and Preprocessing"
      ],
      "metadata": {
        "id": "UHF1cCg9QB5R"
      }
    },
    {
      "cell_type": "code",
      "source": [
        "# Read your dataset (replace 'marketing_sample_for_walmart_com-walmart_com_product_review__20200701_20201231__5k_data.tsv' with your dataset path)\n",
        "train_data = pd.read_csv('/content/Data.tsv', sep='\\t')\n",
        "train_data.columns"
      ],
      "metadata": {
        "colab": {
          "base_uri": "https://localhost:8080/"
        },
        "id": "sT5gJEBdGcsq",
        "outputId": "d684c3d1-ddff-4366-9d8f-6c87ec009075"
      },
      "execution_count": null,
      "outputs": [
        {
          "output_type": "execute_result",
          "data": {
            "text/plain": [
              "Index(['Uniq Id', 'Crawl Timestamp', 'Dataset Origin', 'Product Id',\n",
              "       'Product Barcode', 'Product Company Type Source',\n",
              "       'Product Brand Source', 'Product Brand Normalised Source',\n",
              "       'Product Name Source', 'Match Rank', 'Match Score', 'Match Type',\n",
              "       'Retailer', 'Product Category', 'Product Brand', 'Product Name',\n",
              "       'Product Price', 'Sku', 'Upc', 'Product Url', 'Market',\n",
              "       'Product Description', 'Product Currency',\n",
              "       'Product Available Inventory', 'Product Image Url',\n",
              "       'Product Model Number', 'Product Tags', 'Product Contents',\n",
              "       'Product Rating', 'Product Reviews Count', 'Bsr', 'Joining Key'],\n",
              "      dtype='object')"
            ]
          },
          "metadata": {},
          "execution_count": 3
        }
      ]
    },
    {
      "cell_type": "code",
      "source": [],
      "metadata": {
        "id": "88Yenf0VPcLz"
      },
      "execution_count": null,
      "outputs": []
    },
    {
      "cell_type": "code",
      "source": [
        "train_data = train_data[['Uniq Id','Product Id', 'Product Rating', 'Product Reviews Count', 'Product Category', 'Product Brand', 'Product Name', 'Product Image Url', 'Product Description', 'Product Tags']]\n",
        "train_data.head(3)"
      ],
      "metadata": {
        "colab": {
          "base_uri": "https://localhost:8080/",
          "height": 468
        },
        "id": "UQlGrmtNHPYC",
        "outputId": "6ad9a877-38ae-4c3b-f0ed-1461d1fdd1d7"
      },
      "execution_count": null,
      "outputs": [
        {
          "output_type": "execute_result",
          "data": {
            "text/plain": [
              "                            Uniq Id                        Product Id  \\\n",
              "0  1705736792d82aa2f2d3caf1c07c53f4  2e17bf4acecdece67fc00f07ad62c910   \n",
              "1  95a9fe6f4810fcfc7ff244fd06784f11  076e5854a62dd283c253d6bae415af1f   \n",
              "2  8d4d0330178d3ed181b15a4102b287f2  8a4fe5d9c7a6ed26cc44d785a454b124   \n",
              "\n",
              "   Product Rating  Product Reviews Count  \\\n",
              "0             NaN                    NaN   \n",
              "1             NaN                    NaN   \n",
              "2             4.5                29221.0   \n",
              "\n",
              "                                    Product Category Product Brand  \\\n",
              "0  Premium Beauty > Premium Makeup > Premium Nail...           OPI   \n",
              "1  Beauty > Hair Care > Hair Color > Auburn Hair ...   Nice'n Easy   \n",
              "2  Beauty > Hair Care > Hair Color > Permanent Ha...       Clairol   \n",
              "\n",
              "                                        Product Name  \\\n",
              "0  OPI Infinite Shine, Nail Lacquer Nail Polish, ...   \n",
              "1  Nice n Easy Permanent Color, 111 Natural Mediu...   \n",
              "2  Clairol Nice N Easy Permanent Color 7/106A Nat...   \n",
              "\n",
              "                                   Product Image Url  \\\n",
              "0  https://i5.walmartimages.com/asr/0e1f4c51-c1a4...   \n",
              "1  https://i5.walmartimages.com/asr/9c8e42e4-13a5...   \n",
              "2  https://i5.walmartimages.com/asr/e3a601c2-6a2b...   \n",
              "\n",
              "                                 Product Description  \\\n",
              "0                                                NaN   \n",
              "1  Pack of 3 Pack of 3 for the UPC: 381519000201 ...   \n",
              "2  This Clairol Nice N Easy Permanent Color gives...   \n",
              "\n",
              "                                        Product Tags  \n",
              "0  OPI Infinite Shine, Nail Lacquer Nail Polish, ...  \n",
              "1  Nice 'n Easy Permanent Color, 111 Natural Medi...  \n",
              "2  Clairol Nice 'N Easy Permanent Color 7/106A Na...  "
            ],
            "text/html": [
              "\n",
              "  <div id=\"df-44be7702-e415-4c08-b97e-ed7505012d1f\" class=\"colab-df-container\">\n",
              "    <div>\n",
              "<style scoped>\n",
              "    .dataframe tbody tr th:only-of-type {\n",
              "        vertical-align: middle;\n",
              "    }\n",
              "\n",
              "    .dataframe tbody tr th {\n",
              "        vertical-align: top;\n",
              "    }\n",
              "\n",
              "    .dataframe thead th {\n",
              "        text-align: right;\n",
              "    }\n",
              "</style>\n",
              "<table border=\"1\" class=\"dataframe\">\n",
              "  <thead>\n",
              "    <tr style=\"text-align: right;\">\n",
              "      <th></th>\n",
              "      <th>Uniq Id</th>\n",
              "      <th>Product Id</th>\n",
              "      <th>Product Rating</th>\n",
              "      <th>Product Reviews Count</th>\n",
              "      <th>Product Category</th>\n",
              "      <th>Product Brand</th>\n",
              "      <th>Product Name</th>\n",
              "      <th>Product Image Url</th>\n",
              "      <th>Product Description</th>\n",
              "      <th>Product Tags</th>\n",
              "    </tr>\n",
              "  </thead>\n",
              "  <tbody>\n",
              "    <tr>\n",
              "      <th>0</th>\n",
              "      <td>1705736792d82aa2f2d3caf1c07c53f4</td>\n",
              "      <td>2e17bf4acecdece67fc00f07ad62c910</td>\n",
              "      <td>NaN</td>\n",
              "      <td>NaN</td>\n",
              "      <td>Premium Beauty &gt; Premium Makeup &gt; Premium Nail...</td>\n",
              "      <td>OPI</td>\n",
              "      <td>OPI Infinite Shine, Nail Lacquer Nail Polish, ...</td>\n",
              "      <td>https://i5.walmartimages.com/asr/0e1f4c51-c1a4...</td>\n",
              "      <td>NaN</td>\n",
              "      <td>OPI Infinite Shine, Nail Lacquer Nail Polish, ...</td>\n",
              "    </tr>\n",
              "    <tr>\n",
              "      <th>1</th>\n",
              "      <td>95a9fe6f4810fcfc7ff244fd06784f11</td>\n",
              "      <td>076e5854a62dd283c253d6bae415af1f</td>\n",
              "      <td>NaN</td>\n",
              "      <td>NaN</td>\n",
              "      <td>Beauty &gt; Hair Care &gt; Hair Color &gt; Auburn Hair ...</td>\n",
              "      <td>Nice'n Easy</td>\n",
              "      <td>Nice n Easy Permanent Color, 111 Natural Mediu...</td>\n",
              "      <td>https://i5.walmartimages.com/asr/9c8e42e4-13a5...</td>\n",
              "      <td>Pack of 3 Pack of 3 for the UPC: 381519000201 ...</td>\n",
              "      <td>Nice 'n Easy Permanent Color, 111 Natural Medi...</td>\n",
              "    </tr>\n",
              "    <tr>\n",
              "      <th>2</th>\n",
              "      <td>8d4d0330178d3ed181b15a4102b287f2</td>\n",
              "      <td>8a4fe5d9c7a6ed26cc44d785a454b124</td>\n",
              "      <td>4.5</td>\n",
              "      <td>29221.0</td>\n",
              "      <td>Beauty &gt; Hair Care &gt; Hair Color &gt; Permanent Ha...</td>\n",
              "      <td>Clairol</td>\n",
              "      <td>Clairol Nice N Easy Permanent Color 7/106A Nat...</td>\n",
              "      <td>https://i5.walmartimages.com/asr/e3a601c2-6a2b...</td>\n",
              "      <td>This Clairol Nice N Easy Permanent Color gives...</td>\n",
              "      <td>Clairol Nice 'N Easy Permanent Color 7/106A Na...</td>\n",
              "    </tr>\n",
              "  </tbody>\n",
              "</table>\n",
              "</div>\n",
              "    <div class=\"colab-df-buttons\">\n",
              "\n",
              "  <div class=\"colab-df-container\">\n",
              "    <button class=\"colab-df-convert\" onclick=\"convertToInteractive('df-44be7702-e415-4c08-b97e-ed7505012d1f')\"\n",
              "            title=\"Convert this dataframe to an interactive table.\"\n",
              "            style=\"display:none;\">\n",
              "\n",
              "  <svg xmlns=\"http://www.w3.org/2000/svg\" height=\"24px\" viewBox=\"0 -960 960 960\">\n",
              "    <path d=\"M120-120v-720h720v720H120Zm60-500h600v-160H180v160Zm220 220h160v-160H400v160Zm0 220h160v-160H400v160ZM180-400h160v-160H180v160Zm440 0h160v-160H620v160ZM180-180h160v-160H180v160Zm440 0h160v-160H620v160Z\"/>\n",
              "  </svg>\n",
              "    </button>\n",
              "\n",
              "  <style>\n",
              "    .colab-df-container {\n",
              "      display:flex;\n",
              "      gap: 12px;\n",
              "    }\n",
              "\n",
              "    .colab-df-convert {\n",
              "      background-color: #E8F0FE;\n",
              "      border: none;\n",
              "      border-radius: 50%;\n",
              "      cursor: pointer;\n",
              "      display: none;\n",
              "      fill: #1967D2;\n",
              "      height: 32px;\n",
              "      padding: 0 0 0 0;\n",
              "      width: 32px;\n",
              "    }\n",
              "\n",
              "    .colab-df-convert:hover {\n",
              "      background-color: #E2EBFA;\n",
              "      box-shadow: 0px 1px 2px rgba(60, 64, 67, 0.3), 0px 1px 3px 1px rgba(60, 64, 67, 0.15);\n",
              "      fill: #174EA6;\n",
              "    }\n",
              "\n",
              "    .colab-df-buttons div {\n",
              "      margin-bottom: 4px;\n",
              "    }\n",
              "\n",
              "    [theme=dark] .colab-df-convert {\n",
              "      background-color: #3B4455;\n",
              "      fill: #D2E3FC;\n",
              "    }\n",
              "\n",
              "    [theme=dark] .colab-df-convert:hover {\n",
              "      background-color: #434B5C;\n",
              "      box-shadow: 0px 1px 3px 1px rgba(0, 0, 0, 0.15);\n",
              "      filter: drop-shadow(0px 1px 2px rgba(0, 0, 0, 0.3));\n",
              "      fill: #FFFFFF;\n",
              "    }\n",
              "  </style>\n",
              "\n",
              "    <script>\n",
              "      const buttonEl =\n",
              "        document.querySelector('#df-44be7702-e415-4c08-b97e-ed7505012d1f button.colab-df-convert');\n",
              "      buttonEl.style.display =\n",
              "        google.colab.kernel.accessAllowed ? 'block' : 'none';\n",
              "\n",
              "      async function convertToInteractive(key) {\n",
              "        const element = document.querySelector('#df-44be7702-e415-4c08-b97e-ed7505012d1f');\n",
              "        const dataTable =\n",
              "          await google.colab.kernel.invokeFunction('convertToInteractive',\n",
              "                                                    [key], {});\n",
              "        if (!dataTable) return;\n",
              "\n",
              "        const docLinkHtml = 'Like what you see? Visit the ' +\n",
              "          '<a target=\"_blank\" href=https://colab.research.google.com/notebooks/data_table.ipynb>data table notebook</a>'\n",
              "          + ' to learn more about interactive tables.';\n",
              "        element.innerHTML = '';\n",
              "        dataTable['output_type'] = 'display_data';\n",
              "        await google.colab.output.renderOutput(dataTable, element);\n",
              "        const docLink = document.createElement('div');\n",
              "        docLink.innerHTML = docLinkHtml;\n",
              "        element.appendChild(docLink);\n",
              "      }\n",
              "    </script>\n",
              "  </div>\n",
              "\n",
              "\n",
              "<div id=\"df-7d0e6958-bf8f-407f-87f8-49d14e275c96\">\n",
              "  <button class=\"colab-df-quickchart\" onclick=\"quickchart('df-7d0e6958-bf8f-407f-87f8-49d14e275c96')\"\n",
              "            title=\"Suggest charts\"\n",
              "            style=\"display:none;\">\n",
              "\n",
              "<svg xmlns=\"http://www.w3.org/2000/svg\" height=\"24px\"viewBox=\"0 0 24 24\"\n",
              "     width=\"24px\">\n",
              "    <g>\n",
              "        <path d=\"M19 3H5c-1.1 0-2 .9-2 2v14c0 1.1.9 2 2 2h14c1.1 0 2-.9 2-2V5c0-1.1-.9-2-2-2zM9 17H7v-7h2v7zm4 0h-2V7h2v10zm4 0h-2v-4h2v4z\"/>\n",
              "    </g>\n",
              "</svg>\n",
              "  </button>\n",
              "\n",
              "<style>\n",
              "  .colab-df-quickchart {\n",
              "      --bg-color: #E8F0FE;\n",
              "      --fill-color: #1967D2;\n",
              "      --hover-bg-color: #E2EBFA;\n",
              "      --hover-fill-color: #174EA6;\n",
              "      --disabled-fill-color: #AAA;\n",
              "      --disabled-bg-color: #DDD;\n",
              "  }\n",
              "\n",
              "  [theme=dark] .colab-df-quickchart {\n",
              "      --bg-color: #3B4455;\n",
              "      --fill-color: #D2E3FC;\n",
              "      --hover-bg-color: #434B5C;\n",
              "      --hover-fill-color: #FFFFFF;\n",
              "      --disabled-bg-color: #3B4455;\n",
              "      --disabled-fill-color: #666;\n",
              "  }\n",
              "\n",
              "  .colab-df-quickchart {\n",
              "    background-color: var(--bg-color);\n",
              "    border: none;\n",
              "    border-radius: 50%;\n",
              "    cursor: pointer;\n",
              "    display: none;\n",
              "    fill: var(--fill-color);\n",
              "    height: 32px;\n",
              "    padding: 0;\n",
              "    width: 32px;\n",
              "  }\n",
              "\n",
              "  .colab-df-quickchart:hover {\n",
              "    background-color: var(--hover-bg-color);\n",
              "    box-shadow: 0 1px 2px rgba(60, 64, 67, 0.3), 0 1px 3px 1px rgba(60, 64, 67, 0.15);\n",
              "    fill: var(--button-hover-fill-color);\n",
              "  }\n",
              "\n",
              "  .colab-df-quickchart-complete:disabled,\n",
              "  .colab-df-quickchart-complete:disabled:hover {\n",
              "    background-color: var(--disabled-bg-color);\n",
              "    fill: var(--disabled-fill-color);\n",
              "    box-shadow: none;\n",
              "  }\n",
              "\n",
              "  .colab-df-spinner {\n",
              "    border: 2px solid var(--fill-color);\n",
              "    border-color: transparent;\n",
              "    border-bottom-color: var(--fill-color);\n",
              "    animation:\n",
              "      spin 1s steps(1) infinite;\n",
              "  }\n",
              "\n",
              "  @keyframes spin {\n",
              "    0% {\n",
              "      border-color: transparent;\n",
              "      border-bottom-color: var(--fill-color);\n",
              "      border-left-color: var(--fill-color);\n",
              "    }\n",
              "    20% {\n",
              "      border-color: transparent;\n",
              "      border-left-color: var(--fill-color);\n",
              "      border-top-color: var(--fill-color);\n",
              "    }\n",
              "    30% {\n",
              "      border-color: transparent;\n",
              "      border-left-color: var(--fill-color);\n",
              "      border-top-color: var(--fill-color);\n",
              "      border-right-color: var(--fill-color);\n",
              "    }\n",
              "    40% {\n",
              "      border-color: transparent;\n",
              "      border-right-color: var(--fill-color);\n",
              "      border-top-color: var(--fill-color);\n",
              "    }\n",
              "    60% {\n",
              "      border-color: transparent;\n",
              "      border-right-color: var(--fill-color);\n",
              "    }\n",
              "    80% {\n",
              "      border-color: transparent;\n",
              "      border-right-color: var(--fill-color);\n",
              "      border-bottom-color: var(--fill-color);\n",
              "    }\n",
              "    90% {\n",
              "      border-color: transparent;\n",
              "      border-bottom-color: var(--fill-color);\n",
              "    }\n",
              "  }\n",
              "</style>\n",
              "\n",
              "  <script>\n",
              "    async function quickchart(key) {\n",
              "      const quickchartButtonEl =\n",
              "        document.querySelector('#' + key + ' button');\n",
              "      quickchartButtonEl.disabled = true;  // To prevent multiple clicks.\n",
              "      quickchartButtonEl.classList.add('colab-df-spinner');\n",
              "      try {\n",
              "        const charts = await google.colab.kernel.invokeFunction(\n",
              "            'suggestCharts', [key], {});\n",
              "      } catch (error) {\n",
              "        console.error('Error during call to suggestCharts:', error);\n",
              "      }\n",
              "      quickchartButtonEl.classList.remove('colab-df-spinner');\n",
              "      quickchartButtonEl.classList.add('colab-df-quickchart-complete');\n",
              "    }\n",
              "    (() => {\n",
              "      let quickchartButtonEl =\n",
              "        document.querySelector('#df-7d0e6958-bf8f-407f-87f8-49d14e275c96 button');\n",
              "      quickchartButtonEl.style.display =\n",
              "        google.colab.kernel.accessAllowed ? 'block' : 'none';\n",
              "    })();\n",
              "  </script>\n",
              "</div>\n",
              "\n",
              "    </div>\n",
              "  </div>\n"
            ],
            "application/vnd.google.colaboratory.intrinsic+json": {
              "type": "dataframe",
              "variable_name": "train_data",
              "summary": "{\n  \"name\": \"train_data\",\n  \"rows\": 5000,\n  \"fields\": [\n    {\n      \"column\": \"Uniq Id\",\n      \"properties\": {\n        \"dtype\": \"string\",\n        \"num_unique_values\": 5000,\n        \"samples\": [\n          \"328ca136ce6a4c0fd133c49582938234\",\n          \"4aef43b17bac75f1d31504ece13992be\",\n          \"015f1020a41d6e9f98cf93e5ac5c8109\"\n        ],\n        \"semantic_type\": \"\",\n        \"description\": \"\"\n      }\n    },\n    {\n      \"column\": \"Product Id\",\n      \"properties\": {\n        \"dtype\": \"string\",\n        \"num_unique_values\": 4802,\n        \"samples\": [\n          \"485a3ea6815bfbd43ed84613720c099e\",\n          \"596b8b5440b441131acb27819099f175\",\n          \"edbcdfe96cbf6736ecdd9bf79f467b2f\"\n        ],\n        \"semantic_type\": \"\",\n        \"description\": \"\"\n      }\n    },\n    {\n      \"column\": \"Product Rating\",\n      \"properties\": {\n        \"dtype\": \"number\",\n        \"std\": 0.7733112415690817,\n        \"min\": 1.0,\n        \"max\": 5.0,\n        \"num_unique_values\": 35,\n        \"samples\": [\n          2.3,\n          2.0,\n          1.0\n        ],\n        \"semantic_type\": \"\",\n        \"description\": \"\"\n      }\n    },\n    {\n      \"column\": \"Product Reviews Count\",\n      \"properties\": {\n        \"dtype\": \"number\",\n        \"std\": 2485.6993633969823,\n        \"min\": 1.0,\n        \"max\": 29242.0,\n        \"num_unique_values\": 777,\n        \"samples\": [\n          115.0,\n          3296.0,\n          121.0\n        ],\n        \"semantic_type\": \"\",\n        \"description\": \"\"\n      }\n    },\n    {\n      \"column\": \"Product Category\",\n      \"properties\": {\n        \"dtype\": \"category\",\n        \"num_unique_values\": 988,\n        \"samples\": [\n          \"Beauty > Skin Care > Facial Cleansers > Facial Wipes\",\n          \"Household Essentials > Paper & Plastic > Facial Tissue > Great Value Facial Tissues\",\n          \"Food > Baking > Baking Ingredients > Marshmallows\"\n        ],\n        \"semantic_type\": \"\",\n        \"description\": \"\"\n      }\n    },\n    {\n      \"column\": \"Product Brand\",\n      \"properties\": {\n        \"dtype\": \"category\",\n        \"num_unique_values\": 1600,\n        \"samples\": [\n          \"GOJO\",\n          \"Mirta de Perales\",\n          \"Juvale\"\n        ],\n        \"semantic_type\": \"\",\n        \"description\": \"\"\n      }\n    },\n    {\n      \"column\": \"Product Name\",\n      \"properties\": {\n        \"dtype\": \"string\",\n        \"num_unique_values\": 4921,\n        \"samples\": [\n          \"(2 pack) Irish Spring 5 in 1 Hair, Face and Body Wash Pump - 32 fluid ounce\",\n          \"Garnier Nutrisse Nourishing Hair Color Creme (Browns), 41 Dark Nude Brown, 1 kit\",\n          \"LOreal Paris Colour Riche Matte Lip Liner, Mattes It, 0.04 oz.\"\n        ],\n        \"semantic_type\": \"\",\n        \"description\": \"\"\n      }\n    },\n    {\n      \"column\": \"Product Image Url\",\n      \"properties\": {\n        \"dtype\": \"string\",\n        \"num_unique_values\": 4945,\n        \"samples\": [\n          \"https://i5.walmartimages.com/asr/4922b7ed-df97-43f4-8b46-2f483551d7cc_1.2ef28fc0e80e260f63441c01cc95e8fd.jpeg\",\n          \"https://i5.walmartimages.com/asr/558dd04f-5c13-41a1-9a2c-7a96848951e4.b56f30c35d408274e011fc5245081b64.jpeg | https://i5.walmartimages.com/asr/49f99971-2f94-4eaf-9b24-05ff66625fa5.f3b5ae75c8d82c0089858e1faf180300.jpeg | https://i5.walmartimages.com/asr/01271758-fe63-459e-a6f1-4866e8fed32c.0fede5cdd44446fe93f266cda20d748a.jpeg | https://i5.walmartimages.com/asr/6fe51308-2645-473c-9bef-82cf48df3bf2.0a66bbb5d6e3e227eca97611578289af.jpeg | https://i5.walmartimages.com/asr/dae05a9a-a971-4b1e-981d-8e032eac364c.4cc41630551cc5a0c5e9e6fd5398c4d0.jpeg | https://i5.walmartimages.com/asr/e8981b05-acc8-48f4-ba43-bd427e0e86e5.279def6a4615646cfd7efaea9f379e3e.jpeg | https://i5.walmartimages.com/asr/2275f354-4ca3-4700-92c5-b4c524896eb4.f6b384b57131f92084ebce17b079b92e.jpeg | https://i5.walmartimages.com/asr/22b9b203-fbfc-4035-b1e4-1960a09ab528.525171f65fffa906f9bbee34c9bc18d0.jpeg\",\n          \"https://i5.walmartimages.com/asr/97567ae2-735d-4635-bdc9-63466acf6000_1.3c0916ab37ae45344503a2f35d7e705a.jpeg | https://i5.walmartimages.com/asr/5aaf3183-6745-4d5b-9a35-edf3f18dff45_1.efccdb49f97b717e10d207adb68e820c.jpeg | https://i5.walmartimages.com/asr/03eab3be-2961-4d2d-a148-5b7e8afe9fd2_1.57b2af4964acb81b1e29e182870d99a4.jpeg | https://i5.walmartimages.com/asr/6f22b9b2-c26b-4b9d-bb6e-0ca8ea9ffa36_1.4d1f16e6461393d3fa5fd6d18e85ba1f.jpeg | https://i5.walmartimages.com/asr/ee538439-eafa-4076-b931-0c1e8c6c1f45_1.519b484f62e233a1de273f02fa02a467.jpeg\"\n        ],\n        \"semantic_type\": \"\",\n        \"description\": \"\"\n      }\n    },\n    {\n      \"column\": \"Product Description\",\n      \"properties\": {\n        \"dtype\": \"string\",\n        \"num_unique_values\": 3759,\n        \"samples\": [\n          \"Why use 3 razors when all you really need is 1. Intuition razors are the first 3-in-1 razors to lather, shave and moisturise in one easy step, giving your skin that naturally healthy glow. Simple and convenient, its the perfect razor for busy women and mums on the go.\",\n          \"SuperStay 24HR Concealer provides natural-looking coverage that lasts all day Conceals imperfections, flaws, undereye darkness and circles 24-hour wear, No Transfer Oil-Free, non-comedogenic, dermatologist tested, ophthalmologist tested, fragrance-free.\",\n          \"Count on long-lasting power in your device and on the shelf with Energizer MAX 9V Alkaline Batteries. With a shelf life up to 5 years in storage, Energizer 9 volt batteries are ready when you need them most. Energizer batteries fuel the technology that helps you live, from smoke detector batteries to remote control devices. Powerseal Technology protects against leakage better than other leading batteries for up to two years after fully used when left in low-drain devices. Trust the power of Energizer for the 9V batteries you need to work, play and live. 8 pack of Energizer MAX Alkaline 9V Batteries Long lasting batteries for dependable power in 9 volt devices\\u2014and on the shelf The 9V batteries you depend on for smoke detectors, safety devices, hand-held meters and backup batteries This battery pack holds power for up to 5 years in storage Energizer 9 volt alkaline batteries are designed to protect your devices against damaging leaks for up to two years after fully used From the makers of the Energizer bunny and the No. 1 longest lasting AA battery, Energizer Ultimate Lithium Feel confident knowing you have the long-lasting power and protection you expect from Energizer\"\n        ],\n        \"semantic_type\": \"\",\n        \"description\": \"\"\n      }\n    },\n    {\n      \"column\": \"Product Tags\",\n      \"properties\": {\n        \"dtype\": \"string\",\n        \"num_unique_values\": 4921,\n        \"samples\": [\n          \"(2 pack) Irish Spring 5 in 1 Hair, Face and Body Wash Pump - 32 fluid ounce, Wal-mart, Walmart.com\",\n          \"Garnier Nutrisse Nourishing Hair Color Creme (Browns), 41 Dark Nude Brown, 1 kit, Wal-mart, Walmart.com\",\n          \"L'Oreal Paris Colour Riche Matte Lip Liner, Matte's It, 0.04 oz., Wal-mart, Walmart.com\"\n        ],\n        \"semantic_type\": \"\",\n        \"description\": \"\"\n      }\n    }\n  ]\n}"
            }
          },
          "metadata": {},
          "execution_count": 5
        }
      ]
    },
    {
      "cell_type": "markdown",
      "source": [
        "Basic Operations\n"
      ],
      "metadata": {
        "id": "Hnrrqyx2QR99"
      }
    },
    {
      "cell_type": "code",
      "source": [
        "train_data['Product Tags']"
      ],
      "metadata": {
        "colab": {
          "base_uri": "https://localhost:8080/"
        },
        "id": "BPvlTZIZHee_",
        "outputId": "3f98cdd2-8ab9-4276-b408-c5ab0241b9e7"
      },
      "execution_count": null,
      "outputs": [
        {
          "output_type": "execute_result",
          "data": {
            "text/plain": [
              "0       OPI Infinite Shine, Nail Lacquer Nail Polish, ...\n",
              "1       Nice 'n Easy Permanent Color, 111 Natural Medi...\n",
              "2       Clairol Nice 'N Easy Permanent Color 7/106A Na...\n",
              "3       Kokie Professional Matte Lipstick, Hot Berry, ...\n",
              "4       Gillette TRAC II Plus Razor Blade Refills, Fit...\n",
              "                              ...                        \n",
              "4995    Garden Mint Room Spray (Double Strength), 4 ou...\n",
              "4996    Garnier Nutrisse Nourishing Hair Color Creme (...\n",
              "4997    Nail File Electric Drill, 6 in 1 Professional ...\n",
              "4998    Creed Love In Black Hair And Body Wash 6.8oz/2...\n",
              "4999                    Foundation, Wal-mart, Walmart.com\n",
              "Name: Product Tags, Length: 5000, dtype: object"
            ]
          },
          "metadata": {},
          "execution_count": 7
        }
      ]
    },
    {
      "cell_type": "code",
      "source": [
        "train_data.shape\n"
      ],
      "metadata": {
        "colab": {
          "base_uri": "https://localhost:8080/"
        },
        "id": "rv_x6ORSHfgR",
        "outputId": "343de600-6444-42e2-9cbf-0a2f29b9c1b4"
      },
      "execution_count": null,
      "outputs": [
        {
          "output_type": "execute_result",
          "data": {
            "text/plain": [
              "(5000, 10)"
            ]
          },
          "metadata": {},
          "execution_count": 9
        }
      ]
    },
    {
      "cell_type": "code",
      "source": [
        "train_data.isnull().sum()"
      ],
      "metadata": {
        "colab": {
          "base_uri": "https://localhost:8080/"
        },
        "id": "wIufxPHgHqeC",
        "outputId": "2655e7a1-ca0b-4366-ec62-9e02e62da379"
      },
      "execution_count": null,
      "outputs": [
        {
          "output_type": "execute_result",
          "data": {
            "text/plain": [
              "Uniq Id                     0\n",
              "Product Id                  0\n",
              "Product Rating           2806\n",
              "Product Reviews Count    1654\n",
              "Product Category           10\n",
              "Product Brand              13\n",
              "Product Name                0\n",
              "Product Image Url           0\n",
              "Product Description      1127\n",
              "Product Tags                0\n",
              "dtype: int64"
            ]
          },
          "metadata": {},
          "execution_count": 11
        }
      ]
    },
    {
      "cell_type": "code",
      "source": [
        "# Fill missing values in 'Product Rating' with a default value (e.g., 0)\n",
        "train_data['Product Rating'].fillna(0, inplace=True)\n",
        "# Fill missing values in 'Product Reviews Count' with a default value (e.g., 0)\n",
        "train_data['Product Reviews Count'].fillna(0, inplace=True)\n",
        "# Fill missing values in 'Product Category' with a default value (e.g., 'Unknown')\n",
        "train_data['Product Category'].fillna('', inplace=True)\n",
        "# Fill missing values in 'Product Brand' with a default value (e.g., 'Unknown')\n",
        "train_data['Product Brand'].fillna('', inplace=True)\n",
        "# Fill missing values in 'Product Description' with an empty string\n",
        "train_data['Product Description'].fillna('', inplace=True)"
      ],
      "metadata": {
        "id": "qQZglvAfHv17"
      },
      "execution_count": null,
      "outputs": []
    },
    {
      "cell_type": "code",
      "source": [
        "train_data.isnull().sum()"
      ],
      "metadata": {
        "colab": {
          "base_uri": "https://localhost:8080/"
        },
        "id": "LFmSsxWUH2xK",
        "outputId": "d59504aa-8e30-4dab-b891-82a2a9f67eda"
      },
      "execution_count": null,
      "outputs": [
        {
          "output_type": "execute_result",
          "data": {
            "text/plain": [
              "Uniq Id                  0\n",
              "Product Id               0\n",
              "Product Rating           0\n",
              "Product Reviews Count    0\n",
              "Product Category         0\n",
              "Product Brand            0\n",
              "Product Name             0\n",
              "Product Image Url        0\n",
              "Product Description      0\n",
              "Product Tags             0\n",
              "dtype: int64"
            ]
          },
          "metadata": {},
          "execution_count": 15
        }
      ]
    },
    {
      "cell_type": "code",
      "source": [
        "train_data.duplicated().sum()"
      ],
      "metadata": {
        "colab": {
          "base_uri": "https://localhost:8080/"
        },
        "id": "YN1hdjyyIBGj",
        "outputId": "851e3720-ff28-482d-f0c2-a5a342e59432"
      },
      "execution_count": null,
      "outputs": [
        {
          "output_type": "execute_result",
          "data": {
            "text/plain": [
              "0"
            ]
          },
          "metadata": {},
          "execution_count": 18
        }
      ]
    },
    {
      "cell_type": "code",
      "source": [
        "# make columns shorter\n",
        "# Define the mapping of current column names to shorter names\n",
        "column_name_mapping = {\n",
        "    'Uniq Id': 'ID',\n",
        "    'Product Id': 'ProdID',\n",
        "    'Product Rating': 'Rating',\n",
        "    'Product Reviews Count': 'ReviewCount',\n",
        "    'Product Category': 'Category',\n",
        "    'Product Brand': 'Brand',\n",
        "    'Product Name': 'Name',\n",
        "    'Product Image Url': 'ImageURL',\n",
        "    'Product Description': 'Description',\n",
        "    'Product Tags': 'Tags',\n",
        "    'Product Contents': 'Contents'\n",
        "}\n",
        "# Rename the columns using the mapping\n",
        "train_data.rename(columns=column_name_mapping, inplace=True)"
      ],
      "metadata": {
        "id": "wlOsRzFKIJjy"
      },
      "execution_count": null,
      "outputs": []
    },
    {
      "cell_type": "code",
      "source": [
        "train_data['ID'] = train_data['ID'].str.extract(r'(\\d+)').astype(float)\n",
        "train_data['ProdID'] = train_data['ProdID'].str.extract(r'(\\d+)').astype(float)"
      ],
      "metadata": {
        "id": "4P5g_G78IxwX"
      },
      "execution_count": null,
      "outputs": []
    },
    {
      "cell_type": "markdown",
      "source": [
        "Step 2: EDA (Exploratory Data Analysis)"
      ],
      "metadata": {
        "id": "8VQNdJ68QZM4"
      }
    },
    {
      "cell_type": "code",
      "source": [
        "# Basic statistics\n",
        "num_users = train_data['ID'].nunique()\n",
        "num_items = train_data['ProdID'].nunique()\n",
        "num_ratings = train_data['Rating'].nunique()\n",
        "print(f\"Number of unique users: {num_users}\")\n",
        "print(f\"Number of unique items: {num_items}\")\n",
        "print(f\"Number of unique ratings: {num_ratings}\")"
      ],
      "metadata": {
        "colab": {
          "base_uri": "https://localhost:8080/"
        },
        "id": "l2C2wyzaJCiG",
        "outputId": "c21a1dbd-22f7-490c-9cb5-e6c0cc9346c8"
      },
      "execution_count": null,
      "outputs": [
        {
          "output_type": "stream",
          "name": "stdout",
          "text": [
            "Number of unique users: 1718\n",
            "Number of unique items: 1669\n",
            "Number of unique ratings: 36\n"
          ]
        }
      ]
    },
    {
      "cell_type": "code",
      "source": [
        "# Pivot the DataFrame to create a heatmap\n",
        "heatmap_data = train_data.pivot_table('ID', 'Rating')\n",
        "\n",
        "# Create the heatmap\n",
        "plt.figure(figsize=(8, 6))\n",
        "sns.heatmap(heatmap_data, annot=True, fmt='g', cmap='coolwarm', cbar=True)\n",
        "plt.title('Heatmap of User Ratings')\n",
        "plt.xlabel('Ratings')\n",
        "plt.ylabel('User ID')\n",
        "plt.show()"
      ],
      "metadata": {
        "colab": {
          "base_uri": "https://localhost:8080/",
          "height": 564
        },
        "id": "gDBZXwLlJZia",
        "outputId": "cde1ed97-05ec-4b4d-a047-15b59ab6a17f"
      },
      "execution_count": null,
      "outputs": [
        {
          "output_type": "display_data",
          "data": {
            "text/plain": [
              "<Figure size 800x600 with 2 Axes>"
            ],
            "image/png": "[encoded data removed]"
          },
          "metadata": {}
        }
      ]
    },
    {
      "cell_type": "code",
      "source": [
        "\n",
        "# Distribution of interactions\n",
        "plt.figure(figsize=(12, 5))\n",
        "plt.subplot(1, 2, 1)\n",
        "train_data['ID'].value_counts().hist(bins=10, edgecolor='k')\n",
        "plt.xlabel('Interactions per User')\n",
        "plt.ylabel('Number of Users')\n",
        "plt.title('Distribution of Interactions per User')\n",
        "\n",
        "plt.subplot(1, 2, 2)\n",
        "train_data['ProdID'].value_counts().hist(bins=10, edgecolor='k',color='green')\n",
        "plt.xlabel('Interactions per Item')\n",
        "plt.ylabel('Number of Items')\n",
        "plt.title('Distribution of Interactions per Item')\n",
        "\n",
        "plt.tight_layout()\n",
        "plt.show()"
      ],
      "metadata": {
        "colab": {
          "base_uri": "https://localhost:8080/",
          "height": 430
        },
        "id": "Rqo_WELYJfsm",
        "outputId": "dab3e716-0dfd-4547-e1e0-b63880306ab4"
      },
      "execution_count": null,
      "outputs": [
        {
          "output_type": "display_data",
          "data": {
            "text/plain": [
              "<Figure size 1200x500 with 2 Axes>"
            ],
            "image/png": "[encoded data removed]"
          },
          "metadata": {}
        }
      ]
    },
    {
      "cell_type": "code",
      "source": [
        "\n",
        "# Most popular items\n",
        "popular_items = train_data['ProdID'].value_counts().head(5)\n",
        "popular_items.plot(kind='bar',color='red')\n",
        "plt.title(\"Most Popular items\")"
      ],
      "metadata": {
        "colab": {
          "base_uri": "https://localhost:8080/",
          "height": 498
        },
        "id": "K2FNO0PuJtmc",
        "outputId": "16b7f5bd-3c2c-4cdf-b69b-6e6185e74e23"
      },
      "execution_count": null,
      "outputs": [
        {
          "output_type": "execute_result",
          "data": {
            "text/plain": [
              "Text(0.5, 1.0, 'Most Popular items')"
            ]
          },
          "metadata": {},
          "execution_count": 37
        },
        {
          "output_type": "display_data",
          "data": {
            "text/plain": [
              "<Figure size 640x480 with 1 Axes>"
            ],
            "image/png": "[encoded data removed]"
          },
          "metadata": {}
        }
      ]
    },
    {
      "cell_type": "code",
      "source": [
        "\n",
        "# most rated counts\n",
        "train_data['Rating'].value_counts().plot(kind='bar',color='red')"
      ],
      "metadata": {
        "colab": {
          "base_uri": "https://localhost:8080/",
          "height": 476
        },
        "id": "wDbGGRpAJy0k",
        "outputId": "def1a617-b323-4193-b84a-626753d7e6f3"
      },
      "execution_count": null,
      "outputs": [
        {
          "output_type": "execute_result",
          "data": {
            "text/plain": [
              "<Axes: xlabel='Rating'>"
            ]
          },
          "metadata": {},
          "execution_count": 39
        },
        {
          "output_type": "display_data",
          "data": {
            "text/plain": [
              "<Figure size 640x480 with 1 Axes>"
            ],
            "image/png": "[encoded data removed]"
          },
          "metadata": {}
        }
      ]
    },
    {
      "cell_type": "markdown",
      "source": [
        "Step 3: Data Cleaning and Tags Creations"
      ],
      "metadata": {
        "id": "8TAPFyM2Qiic"
      }
    },
    {
      "cell_type": "code",
      "source": [
        "import spacy\n",
        "from spacy.lang.en.stop_words import STOP_WORDS\n",
        "\n",
        "nlp = spacy.load(\"en_core_web_sm\")\n",
        "\n",
        "def clean_and_extract_tags(text):\n",
        "    doc = nlp(text.lower())\n",
        "    tags = [token.text for token in doc if token.text.isalnum() and token.text not in STOP_WORDS]\n",
        "    return ', '.join(tags)\n",
        "\n",
        "columns_to_extract_tags_from = ['Category', 'Brand', 'Description']\n",
        "\n",
        "for column in columns_to_extract_tags_from:\n",
        "    train_data[column] = train_data[column].apply(clean_and_extract_tags)"
      ],
      "metadata": {
        "colab": {
          "base_uri": "https://localhost:8080/"
        },
        "id": "k1fNx40JJ3NJ",
        "outputId": "18b00346-c679-4511-9247-d250a05136e1"
      },
      "execution_count": null,
      "outputs": [
        {
          "output_type": "stream",
          "name": "stderr",
          "text": [
            "/usr/local/lib/python3.10/dist-packages/spacy/util.py:1740: UserWarning: [W111] Jupyter notebook detected: if using `prefer_gpu()` or `require_gpu()`, include it in the same cell right before `spacy.load()` to ensure that the model is loaded on the correct device. More information: http://spacy.io/usage/v3#jupyter-notebook-gpu\n",
            "  warnings.warn(Warnings.W111)\n"
          ]
        }
      ]
    },
    {
      "cell_type": "code",
      "source": [
        "# Concatenate the cleaned tags from all relevant columns\n",
        "train_data['Tags'] = train_data[columns_to_extract_tags_from].apply(lambda row: ', '.join(row), axis=1)"
      ],
      "metadata": {
        "id": "OScaTjVQJ99k"
      },
      "execution_count": null,
      "outputs": []
    },
    {
      "cell_type": "markdown",
      "source": [
        "Rating Base Recommendations System"
      ],
      "metadata": {
        "id": "Iap77UmIQnrp"
      }
    },
    {
      "cell_type": "code",
      "source": [
        "average_ratings = train_data.groupby(['Name','ReviewCount','Brand','ImageURL'])['Rating'].mean().reset_index()"
      ],
      "metadata": {
        "id": "jEB_TDITKeD-"
      },
      "execution_count": null,
      "outputs": []
    },
    {
      "cell_type": "code",
      "source": [
        "top_rated_items = average_ratings.sort_values(by='Rating', ascending=False)\n",
        "\n",
        "rating_base_recommendation = top_rated_items.head(10)"
      ],
      "metadata": {
        "id": "L783AGrIKfGg"
      },
      "execution_count": null,
      "outputs": []
    },
    {
      "cell_type": "code",
      "source": [
        "rating_base_recommendation['Rating'] = rating_base_recommendation['Rating'].astype(int)\n",
        "rating_base_recommendation['ReviewCount'] = rating_base_recommendation['ReviewCount'].astype(int)"
      ],
      "metadata": {
        "colab": {
          "base_uri": "https://localhost:8080/"
        },
        "id": "pKT-3j2uK92g",
        "outputId": "07e9816f-ca62-4ca6-e611-9561e0e3c289"
      },
      "execution_count": null,
      "outputs": [
        {
          "output_type": "stream",
          "name": "stderr",
          "text": [
            "<ipython-input-48-14a31ed65ba8>:1: SettingWithCopyWarning: \n",
            "A value is trying to be set on a copy of a slice from a DataFrame.\n",
            "Try using .loc[row_indexer,col_indexer] = value instead\n",
            "\n",
            "See the caveats in the documentation: https://pandas.pydata.org/pandas-docs/stable/user_guide/indexing.html#returning-a-view-versus-a-copy\n",
            "  rating_base_recommendation['Rating'] = rating_base_recommendation['Rating'].astype(int)\n",
            "<ipython-input-48-14a31ed65ba8>:2: SettingWithCopyWarning: \n",
            "A value is trying to be set on a copy of a slice from a DataFrame.\n",
            "Try using .loc[row_indexer,col_indexer] = value instead\n",
            "\n",
            "See the caveats in the documentation: https://pandas.pydata.org/pandas-docs/stable/user_guide/indexing.html#returning-a-view-versus-a-copy\n",
            "  rating_base_recommendation['ReviewCount'] = rating_base_recommendation['ReviewCount'].astype(int)\n"
          ]
        }
      ]
    },
    {
      "cell_type": "code",
      "source": [
        "print(\"Rating Base Recommendation System: (Trending Products)\")\n",
        "rating_base_recommendation[['Name','Rating','ReviewCount','Brand','ImageURL']] = rating_base_recommendation[['Name','Rating','ReviewCount','Brand','ImageURL']]\n",
        "rating_base_recommendation"
      ],
      "metadata": {
        "colab": {
          "base_uri": "https://localhost:8080/",
          "height": 658
        },
        "id": "tcD7TkdULJKk",
        "outputId": "22c9eced-ec4c-4ec1-9d41-88d3dca4f7df"
      },
      "execution_count": null,
      "outputs": [
        {
          "output_type": "stream",
          "name": "stdout",
          "text": [
            "Rating Base Recommendation System: (Trending Products)\n"
          ]
        },
        {
          "output_type": "stream",
          "name": "stderr",
          "text": [
            "<ipython-input-51-6e413a8a573d>:2: SettingWithCopyWarning: \n",
            "A value is trying to be set on a copy of a slice from a DataFrame.\n",
            "Try using .loc[row_indexer,col_indexer] = value instead\n",
            "\n",
            "See the caveats in the documentation: https://pandas.pydata.org/pandas-docs/stable/user_guide/indexing.html#returning-a-view-versus-a-copy\n",
            "  rating_base_recommendation[['Name','Rating','ReviewCount','Brand','ImageURL']] = rating_base_recommendation[['Name','Rating','ReviewCount','Brand','ImageURL']]\n"
          ]
        },
        {
          "output_type": "execute_result",
          "data": {
            "text/plain": [
              "                                                   Name  ReviewCount  \\\n",
              "1686  Electric Shaver, Triple Shaving Time Electric ...            4   \n",
              "526                 Alaffia Body Lotion, Vanilla, 32 Oz            2   \n",
              "2053  Gold Bond Ultimate Ultimate Healing Lotion, Al...            2   \n",
              "4716  Versace Man Eau Fraiche Eau De Toilette Spray,...           24   \n",
              "2058  Goldwell StyleSign 1 Flat Marvel Straightening...            2   \n",
              "3842  Red Devil 0322 Steel Wool # 00 Very Fine, 8 Pa...            1   \n",
              "510   Air Wick Plug in Starter Kit, Warmer + 1 Refil...            1   \n",
              "3841  Recovery Complex Anti-Frizz Shine Serum by Bai...            4   \n",
              "2687  Long Aid Extra Dry Formula Curl Activator Gel ...           12   \n",
              "2062  Good Sense 60-Day Air Care System, Citrus, 2 o...            1   \n",
              "\n",
              "                Brand                                           ImageURL  \\\n",
              "1686           moosoo  https://i5.walmartimages.com/asr/e7dcd553-90df...   \n",
              "526           alaffia  https://i5.walmartimages.com/asr/2988c323-cb6f...   \n",
              "2053       gold, bond  https://i5.walmartimages.com/asr/34b610e7-05db...   \n",
              "4716          versace  https://i5.walmartimages.com/asr/edaaeed5-9da0...   \n",
              "2058         goldwell  https://i5.walmartimages.com/asr/3bf90289-6980...   \n",
              "3842       red, devil  https://i5.walmartimages.com/asr/60bfe5ba-774c...   \n",
              "510         air, wick  https://i5.walmartimages.com/asr/0fac65b2-c6aa...   \n",
              "3841  bain, de, terre  https://i5.walmartimages.com/asr/fcdb4d2e-3727...   \n",
              "2687        long, aid  https://i5.walmartimages.com/asr/f7f29199-bfa5...   \n",
              "2062         diversey  https://i5.walmartimages.com/asr/025a7068-7bb1...   \n",
              "\n",
              "      Rating  \n",
              "1686       5  \n",
              "526        5  \n",
              "2053       5  \n",
              "4716       5  \n",
              "2058       5  \n",
              "3842       5  \n",
              "510        5  \n",
              "3841       5  \n",
              "2687       5  \n",
              "2062       5  "
            ],
            "text/html": [
              "\n",
              "  <div id=\"df-cfd6bfa7-9833-4098-934e-4613621dee47\" class=\"colab-df-container\">\n",
              "    <div>\n",
              "<style scoped>\n",
              "    .dataframe tbody tr th:only-of-type {\n",
              "        vertical-align: middle;\n",
              "    }\n",
              "\n",
              "    .dataframe tbody tr th {\n",
              "        vertical-align: top;\n",
              "    }\n",
              "\n",
              "    .dataframe thead th {\n",
              "        text-align: right;\n",
              "    }\n",
              "</style>\n",
              "<table border=\"1\" class=\"dataframe\">\n",
              "  <thead>\n",
              "    <tr style=\"text-align: right;\">\n",
              "      <th></th>\n",
              "      <th>Name</th>\n",
              "      <th>ReviewCount</th>\n",
              "      <th>Brand</th>\n",
              "      <th>ImageURL</th>\n",
              "      <th>Rating</th>\n",
              "    </tr>\n",
              "  </thead>\n",
              "  <tbody>\n",
              "    <tr>\n",
              "      <th>1686</th>\n",
              "      <td>Electric Shaver, Triple Shaving Time Electric ...</td>\n",
              "      <td>4</td>\n",
              "      <td>moosoo</td>\n",
              "      <td>https://i5.walmartimages.com/asr/e7dcd553-90df...</td>\n",
              "      <td>5</td>\n",
              "    </tr>\n",
              "    <tr>\n",
              "      <th>526</th>\n",
              "      <td>Alaffia Body Lotion, Vanilla, 32 Oz</td>\n",
              "      <td>2</td>\n",
              "      <td>alaffia</td>\n",
              "      <td>https://i5.walmartimages.com/asr/2988c323-cb6f...</td>\n",
              "      <td>5</td>\n",
              "    </tr>\n",
              "    <tr>\n",
              "      <th>2053</th>\n",
              "      <td>Gold Bond Ultimate Ultimate Healing Lotion, Al...</td>\n",
              "      <td>2</td>\n",
              "      <td>gold, bond</td>\n",
              "      <td>https://i5.walmartimages.com/asr/34b610e7-05db...</td>\n",
              "      <td>5</td>\n",
              "    </tr>\n",
              "    <tr>\n",
              "      <th>4716</th>\n",
              "      <td>Versace Man Eau Fraiche Eau De Toilette Spray,...</td>\n",
              "      <td>24</td>\n",
              "      <td>versace</td>\n",
              "      <td>https://i5.walmartimages.com/asr/edaaeed5-9da0...</td>\n",
              "      <td>5</td>\n",
              "    </tr>\n",
              "    <tr>\n",
              "      <th>2058</th>\n",
              "      <td>Goldwell StyleSign 1 Flat Marvel Straightening...</td>\n",
              "      <td>2</td>\n",
              "      <td>goldwell</td>\n",
              "      <td>https://i5.walmartimages.com/asr/3bf90289-6980...</td>\n",
              "      <td>5</td>\n",
              "    </tr>\n",
              "    <tr>\n",
              "      <th>3842</th>\n",
              "      <td>Red Devil 0322 Steel Wool # 00 Very Fine, 8 Pa...</td>\n",
              "      <td>1</td>\n",
              "      <td>red, devil</td>\n",
              "      <td>https://i5.walmartimages.com/asr/60bfe5ba-774c...</td>\n",
              "      <td>5</td>\n",
              "    </tr>\n",
              "    <tr>\n",
              "      <th>510</th>\n",
              "      <td>Air Wick Plug in Starter Kit, Warmer + 1 Refil...</td>\n",
              "      <td>1</td>\n",
              "      <td>air, wick</td>\n",
              "      <td>https://i5.walmartimages.com/asr/0fac65b2-c6aa...</td>\n",
              "      <td>5</td>\n",
              "    </tr>\n",
              "    <tr>\n",
              "      <th>3841</th>\n",
              "      <td>Recovery Complex Anti-Frizz Shine Serum by Bai...</td>\n",
              "      <td>4</td>\n",
              "      <td>bain, de, terre</td>\n",
              "      <td>https://i5.walmartimages.com/asr/fcdb4d2e-3727...</td>\n",
              "      <td>5</td>\n",
              "    </tr>\n",
              "    <tr>\n",
              "      <th>2687</th>\n",
              "      <td>Long Aid Extra Dry Formula Curl Activator Gel ...</td>\n",
              "      <td>12</td>\n",
              "      <td>long, aid</td>\n",
              "      <td>https://i5.walmartimages.com/asr/f7f29199-bfa5...</td>\n",
              "      <td>5</td>\n",
              "    </tr>\n",
              "    <tr>\n",
              "      <th>2062</th>\n",
              "      <td>Good Sense 60-Day Air Care System, Citrus, 2 o...</td>\n",
              "      <td>1</td>\n",
              "      <td>diversey</td>\n",
              "      <td>https://i5.walmartimages.com/asr/025a7068-7bb1...</td>\n",
              "      <td>5</td>\n",
              "    </tr>\n",
              "  </tbody>\n",
              "</table>\n",
              "</div>\n",
              "    <div class=\"colab-df-buttons\">\n",
              "\n",
              "  <div class=\"colab-df-container\">\n",
              "    <button class=\"colab-df-convert\" onclick=\"convertToInteractive('df-cfd6bfa7-9833-4098-934e-4613621dee47')\"\n",
              "            title=\"Convert this dataframe to an interactive table.\"\n",
              "            style=\"display:none;\">\n",
              "\n",
              "  <svg xmlns=\"http://www.w3.org/2000/svg\" height=\"24px\" viewBox=\"0 -960 960 960\">\n",
              "    <path d=\"M120-120v-720h720v720H120Zm60-500h600v-160H180v160Zm220 220h160v-160H400v160Zm0 220h160v-160H400v160ZM180-400h160v-160H180v160Zm440 0h160v-160H620v160ZM180-180h160v-160H180v160Zm440 0h160v-160H620v160Z\"/>\n",
              "  </svg>\n",
              "    </button>\n",
              "\n",
              "  <style>\n",
              "    .colab-df-container {\n",
              "      display:flex;\n",
              "      gap: 12px;\n",
              "    }\n",
              "\n",
              "    .colab-df-convert {\n",
              "      background-color: #E8F0FE;\n",
              "      border: none;\n",
              "      border-radius: 50%;\n",
              "      cursor: pointer;\n",
              "      display: none;\n",
              "      fill: #1967D2;\n",
              "      height: 32px;\n",
              "      padding: 0 0 0 0;\n",
              "      width: 32px;\n",
              "    }\n",
              "\n",
              "    .colab-df-convert:hover {\n",
              "      background-color: #E2EBFA;\n",
              "      box-shadow: 0px 1px 2px rgba(60, 64, 67, 0.3), 0px 1px 3px 1px rgba(60, 64, 67, 0.15);\n",
              "      fill: #174EA6;\n",
              "    }\n",
              "\n",
              "    .colab-df-buttons div {\n",
              "      margin-bottom: 4px;\n",
              "    }\n",
              "\n",
              "    [theme=dark] .colab-df-convert {\n",
              "      background-color: #3B4455;\n",
              "      fill: #D2E3FC;\n",
              "    }\n",
              "\n",
              "    [theme=dark] .colab-df-convert:hover {\n",
              "      background-color: #434B5C;\n",
              "      box-shadow: 0px 1px 3px 1px rgba(0, 0, 0, 0.15);\n",
              "      filter: drop-shadow(0px 1px 2px rgba(0, 0, 0, 0.3));\n",
              "      fill: #FFFFFF;\n",
              "    }\n",
              "  </style>\n",
              "\n",
              "    <script>\n",
              "      const buttonEl =\n",
              "        document.querySelector('#df-cfd6bfa7-9833-4098-934e-4613621dee47 button.colab-df-convert');\n",
              "      buttonEl.style.display =\n",
              "        google.colab.kernel.accessAllowed ? 'block' : 'none';\n",
              "\n",
              "      async function convertToInteractive(key) {\n",
              "        const element = document.querySelector('#df-cfd6bfa7-9833-4098-934e-4613621dee47');\n",
              "        const dataTable =\n",
              "          await google.colab.kernel.invokeFunction('convertToInteractive',\n",
              "                                                    [key], {});\n",
              "        if (!dataTable) return;\n",
              "\n",
              "        const docLinkHtml = 'Like what you see? Visit the ' +\n",
              "          '<a target=\"_blank\" href=https://colab.research.google.com/notebooks/data_table.ipynb>data table notebook</a>'\n",
              "          + ' to learn more about interactive tables.';\n",
              "        element.innerHTML = '';\n",
              "        dataTable['output_type'] = 'display_data';\n",
              "        await google.colab.output.renderOutput(dataTable, element);\n",
              "        const docLink = document.createElement('div');\n",
              "        docLink.innerHTML = docLinkHtml;\n",
              "        element.appendChild(docLink);\n",
              "      }\n",
              "    </script>\n",
              "  </div>\n",
              "\n",
              "\n",
              "<div id=\"df-9a375b65-0e59-4a12-9da8-21cd38015051\">\n",
              "  <button class=\"colab-df-quickchart\" onclick=\"quickchart('df-9a375b65-0e59-4a12-9da8-21cd38015051')\"\n",
              "            title=\"Suggest charts\"\n",
              "            style=\"display:none;\">\n",
              "\n",
              "<svg xmlns=\"http://www.w3.org/2000/svg\" height=\"24px\"viewBox=\"0 0 24 24\"\n",
              "     width=\"24px\">\n",
              "    <g>\n",
              "        <path d=\"M19 3H5c-1.1 0-2 .9-2 2v14c0 1.1.9 2 2 2h14c1.1 0 2-.9 2-2V5c0-1.1-.9-2-2-2zM9 17H7v-7h2v7zm4 0h-2V7h2v10zm4 0h-2v-4h2v4z\"/>\n",
              "    </g>\n",
              "</svg>\n",
              "  </button>\n",
              "\n",
              "<style>\n",
              "  .colab-df-quickchart {\n",
              "      --bg-color: #E8F0FE;\n",
              "      --fill-color: #1967D2;\n",
              "      --hover-bg-color: #E2EBFA;\n",
              "      --hover-fill-color: #174EA6;\n",
              "      --disabled-fill-color: #AAA;\n",
              "      --disabled-bg-color: #DDD;\n",
              "  }\n",
              "\n",
              "  [theme=dark] .colab-df-quickchart {\n",
              "      --bg-color: #3B4455;\n",
              "      --fill-color: #D2E3FC;\n",
              "      --hover-bg-color: #434B5C;\n",
              "      --hover-fill-color: #FFFFFF;\n",
              "      --disabled-bg-color: #3B4455;\n",
              "      --disabled-fill-color: #666;\n",
              "  }\n",
              "\n",
              "  .colab-df-quickchart {\n",
              "    background-color: var(--bg-color);\n",
              "    border: none;\n",
              "    border-radius: 50%;\n",
              "    cursor: pointer;\n",
              "    display: none;\n",
              "    fill: var(--fill-color);\n",
              "    height: 32px;\n",
              "    padding: 0;\n",
              "    width: 32px;\n",
              "  }\n",
              "\n",
              "  .colab-df-quickchart:hover {\n",
              "    background-color: var(--hover-bg-color);\n",
              "    box-shadow: 0 1px 2px rgba(60, 64, 67, 0.3), 0 1px 3px 1px rgba(60, 64, 67, 0.15);\n",
              "    fill: var(--button-hover-fill-color);\n",
              "  }\n",
              "\n",
              "  .colab-df-quickchart-complete:disabled,\n",
              "  .colab-df-quickchart-complete:disabled:hover {\n",
              "    background-color: var(--disabled-bg-color);\n",
              "    fill: var(--disabled-fill-color);\n",
              "    box-shadow: none;\n",
              "  }\n",
              "\n",
              "  .colab-df-spinner {\n",
              "    border: 2px solid var(--fill-color);\n",
              "    border-color: transparent;\n",
              "    border-bottom-color: var(--fill-color);\n",
              "    animation:\n",
              "      spin 1s steps(1) infinite;\n",
              "  }\n",
              "\n",
              "  @keyframes spin {\n",
              "    0% {\n",
              "      border-color: transparent;\n",
              "      border-bottom-color: var(--fill-color);\n",
              "      border-left-color: var(--fill-color);\n",
              "    }\n",
              "    20% {\n",
              "      border-color: transparent;\n",
              "      border-left-color: var(--fill-color);\n",
              "      border-top-color: var(--fill-color);\n",
              "    }\n",
              "    30% {\n",
              "      border-color: transparent;\n",
              "      border-left-color: var(--fill-color);\n",
              "      border-top-color: var(--fill-color);\n",
              "      border-right-color: var(--fill-color);\n",
              "    }\n",
              "    40% {\n",
              "      border-color: transparent;\n",
              "      border-right-color: var(--fill-color);\n",
              "      border-top-color: var(--fill-color);\n",
              "    }\n",
              "    60% {\n",
              "      border-color: transparent;\n",
              "      border-right-color: var(--fill-color);\n",
              "    }\n",
              "    80% {\n",
              "      border-color: transparent;\n",
              "      border-right-color: var(--fill-color);\n",
              "      border-bottom-color: var(--fill-color);\n",
              "    }\n",
              "    90% {\n",
              "      border-color: transparent;\n",
              "      border-bottom-color: var(--fill-color);\n",
              "    }\n",
              "  }\n",
              "</style>\n",
              "\n",
              "  <script>\n",
              "    async function quickchart(key) {\n",
              "      const quickchartButtonEl =\n",
              "        document.querySelector('#' + key + ' button');\n",
              "      quickchartButtonEl.disabled = true;  // To prevent multiple clicks.\n",
              "      quickchartButtonEl.classList.add('colab-df-spinner');\n",
              "      try {\n",
              "        const charts = await google.colab.kernel.invokeFunction(\n",
              "            'suggestCharts', [key], {});\n",
              "      } catch (error) {\n",
              "        console.error('Error during call to suggestCharts:', error);\n",
              "      }\n",
              "      quickchartButtonEl.classList.remove('colab-df-spinner');\n",
              "      quickchartButtonEl.classList.add('colab-df-quickchart-complete');\n",
              "    }\n",
              "    (() => {\n",
              "      let quickchartButtonEl =\n",
              "        document.querySelector('#df-9a375b65-0e59-4a12-9da8-21cd38015051 button');\n",
              "      quickchartButtonEl.style.display =\n",
              "        google.colab.kernel.accessAllowed ? 'block' : 'none';\n",
              "    })();\n",
              "  </script>\n",
              "</div>\n",
              "\n",
              "  <div id=\"id_aee0dd54-2b20-4827-96b4-d7c3d2b1b0f4\">\n",
              "    <style>\n",
              "      .colab-df-generate {\n",
              "        background-color: #E8F0FE;\n",
              "        border: none;\n",
              "        border-radius: 50%;\n",
              "        cursor: pointer;\n",
              "        display: none;\n",
              "        fill: #1967D2;\n",
              "        height: 32px;\n",
              "        padding: 0 0 0 0;\n",
              "        width: 32px;\n",
              "      }\n",
              "\n",
              "      .colab-df-generate:hover {\n",
              "        background-color: #E2EBFA;\n",
              "        box-shadow: 0px 1px 2px rgba(60, 64, 67, 0.3), 0px 1px 3px 1px rgba(60, 64, 67, 0.15);\n",
              "        fill: #174EA6;\n",
              "      }\n",
              "\n",
              "      [theme=dark] .colab-df-generate {\n",
              "        background-color: #3B4455;\n",
              "        fill: #D2E3FC;\n",
              "      }\n",
              "\n",
              "      [theme=dark] .colab-df-generate:hover {\n",
              "        background-color: #434B5C;\n",
              "        box-shadow: 0px 1px 3px 1px rgba(0, 0, 0, 0.15);\n",
              "        filter: drop-shadow(0px 1px 2px rgba(0, 0, 0, 0.3));\n",
              "        fill: #FFFFFF;\n",
              "      }\n",
              "    </style>\n",
              "    <button class=\"colab-df-generate\" onclick=\"generateWithVariable('rating_base_recommendation')\"\n",
              "            title=\"Generate code using this dataframe.\"\n",
              "            style=\"display:none;\">\n",
              "\n",
              "  <svg xmlns=\"http://www.w3.org/2000/svg\" height=\"24px\"viewBox=\"0 0 24 24\"\n",
              "       width=\"24px\">\n",
              "    <path d=\"M7,19H8.4L18.45,9,17,7.55,7,17.6ZM5,21V16.75L18.45,3.32a2,2,0,0,1,2.83,0l1.4,1.43a1.91,1.91,0,0,1,.58,1.4,1.91,1.91,0,0,1-.58,1.4L9.25,21ZM18.45,9,17,7.55Zm-12,3A5.31,5.31,0,0,0,4.9,8.1,5.31,5.31,0,0,0,1,6.5,5.31,5.31,0,0,0,4.9,4.9,5.31,5.31,0,0,0,6.5,1,5.31,5.31,0,0,0,8.1,4.9,5.31,5.31,0,0,0,12,6.5,5.46,5.46,0,0,0,6.5,12Z\"/>\n",
              "  </svg>\n",
              "    </button>\n",
              "    <script>\n",
              "      (() => {\n",
              "      const buttonEl =\n",
              "        document.querySelector('#id_aee0dd54-2b20-4827-96b4-d7c3d2b1b0f4 button.colab-df-generate');\n",
              "      buttonEl.style.display =\n",
              "        google.colab.kernel.accessAllowed ? 'block' : 'none';\n",
              "\n",
              "      buttonEl.onclick = () => {\n",
              "        google.colab.notebook.generateWithVariable('rating_base_recommendation');\n",
              "      }\n",
              "      })();\n",
              "    </script>\n",
              "  </div>\n",
              "\n",
              "    </div>\n",
              "  </div>\n"
            ],
            "application/vnd.google.colaboratory.intrinsic+json": {
              "type": "dataframe",
              "variable_name": "rating_base_recommendation",
              "summary": "{\n  \"name\": \"rating_base_recommendation\",\n  \"rows\": 10,\n  \"fields\": [\n    {\n      \"column\": \"Name\",\n      \"properties\": {\n        \"dtype\": \"string\",\n        \"num_unique_values\": 10,\n        \"samples\": [\n          \"Long Aid Extra Dry Formula Curl Activator Gel 16.4 oz Jar\",\n          \"Alaffia Body Lotion, Vanilla, 32 Oz\",\n          \"Red Devil 0322 Steel Wool # 00 Very Fine, 8 Pack Bag\"\n        ],\n        \"semantic_type\": \"\",\n        \"description\": \"\"\n      }\n    },\n    {\n      \"column\": \"ReviewCount\",\n      \"properties\": {\n        \"dtype\": \"number\",\n        \"std\": 7,\n        \"min\": 1,\n        \"max\": 24,\n        \"num_unique_values\": 5,\n        \"samples\": [\n          2,\n          12,\n          24\n        ],\n        \"semantic_type\": \"\",\n        \"description\": \"\"\n      }\n    },\n    {\n      \"column\": \"Brand\",\n      \"properties\": {\n        \"dtype\": \"string\",\n        \"num_unique_values\": 10,\n        \"samples\": [\n          \"long, aid\",\n          \"alaffia\",\n          \"red, devil\"\n        ],\n        \"semantic_type\": \"\",\n        \"description\": \"\"\n      }\n    },\n    {\n      \"column\": \"ImageURL\",\n      \"properties\": {\n        \"dtype\": \"string\",\n        \"num_unique_values\": 10,\n        \"samples\": [\n          \"https://i5.walmartimages.com/asr/f7f29199-bfa5-4ec5-ab44-48ec857b4848_1.2d5b97f66156dbf2cf97aeebddd4ff03.jpeg | https://i5.walmartimages.com/asr/ff47755c-0647-4cc7-9887-264b9a42d362_1.80061884b6a45f6c7db1138544041939.jpeg | https://i5.walmartimages.com/asr/eda9cd54-a4f1-4f12-bb7a-c54289d6515f_1.90a4bdefd4930d760113d91e0c227092.jpeg | https://i5.walmartimages.com/asr/08329491-d940-4b20-bc1b-f7386fdbc5cf_1.6e70660891219878543178e88b6fe487.jpeg | https://i5.walmartimages.com/asr/05137f8e-cd93-4f1e-b96b-882705a7a740_1.98624e801e5ebeba37049b01c236c8ac.jpeg | https://i5.walmartimages.com/asr/d1773e11-1f07-47cd-849e-2d68195c2cc6_1.7d3b34c7ef78517aa2a2869ca1a948f5.jpeg\",\n          \"https://i5.walmartimages.com/asr/2988c323-cb6f-4a45-9bd7-9029d981630c_1.d65b6410f1b5a72233cdab07e25e153b.jpeg | https://i5.walmartimages.com/asr/c773f069-a99d-4d06-a4ff-d4c839063929_1.3a72dc9092da4efd57530dc86a077c6d.jpeg\",\n          \"https://i5.walmartimages.com/asr/60bfe5ba-774c-40bc-9cb7-42d4fd291767_1.9e569a7fbef1bd802ceb8b175db6e4ec.jpeg | https://i5.walmartimages.com/asr/0daa7bee-ea46-4202-bce2-95ace6787949_1.8ab55949465d49c29e3e1b9bbf36ed29.jpeg | https://i5.walmartimages.com/asr/d0da4c6b-6aab-44cd-9ce6-e16d831f81ad_1.174b7188471bd5f0fe0212de94674d9f.jpeg\"\n        ],\n        \"semantic_type\": \"\",\n        \"description\": \"\"\n      }\n    },\n    {\n      \"column\": \"Rating\",\n      \"properties\": {\n        \"dtype\": \"number\",\n        \"std\": 0,\n        \"min\": 5,\n        \"max\": 5,\n        \"num_unique_values\": 1,\n        \"samples\": [\n          5\n        ],\n        \"semantic_type\": \"\",\n        \"description\": \"\"\n      }\n    }\n  ]\n}"
            }
          },
          "metadata": {},
          "execution_count": 51
        }
      ]
    },
    {
      "source": [
        "# @title ReviewCount\n",
        "\n",
        "from matplotlib import pyplot as plt\n",
        "rating_base_recommendation['ReviewCount'].plot(kind='hist', bins=20, title='ReviewCount')\n",
        "plt.gca().spines[['top', 'right',]].set_visible(False)"
      ],
      "cell_type": "code",
      "execution_count": null,
      "outputs": [
        {
          "output_type": "display_data",
          "data": {
            "text/plain": [
              "<Figure size 640x480 with 1 Axes>"
            ],
            "image/png": "[encoded data removed]"
          },
          "metadata": {}
        }
      ],
      "metadata": {
        "colab": {
          "base_uri": "https://localhost:8080/",
          "height": 452
        },
        "id": "CdvpOn2ZSObp",
        "outputId": "b72475d2-74b4-4e72-dd61-7e2be4c7ebfa"
      }
    },
    {
      "cell_type": "markdown",
      "source": [
        "Content Base Recommendation system (User Preferences or Items similarities)"
      ],
      "metadata": {
        "id": "hLNSWagbQtV_"
      }
    },
    {
      "cell_type": "code",
      "source": [
        "import pandas as pd\n",
        "from sklearn.feature_extraction.text import TfidfVectorizer\n",
        "from sklearn.metrics.pairwise import cosine_similarity\n",
        "\n",
        "def content_based_recommendations(train_data, item_name, top_n=10):\n",
        "    # Check if the item name exists in the training data\n",
        "    if item_name not in train_data['Name'].values:\n",
        "        print(f\"Item '{item_name}' not found in the training data.\")\n",
        "        return pd.DataFrame()\n",
        "\n",
        "    # Create a TF-IDF vectorizer for item descriptions\n",
        "    tfidf_vectorizer = TfidfVectorizer(stop_words='english')\n",
        "\n",
        "    # Apply TF-IDF vectorization to item descriptions\n",
        "    tfidf_matrix_content = tfidf_vectorizer.fit_transform(train_data['Tags'])\n",
        "\n",
        "    # Calculate cosine similarity between items based on descriptions\n",
        "    cosine_similarities_content = cosine_similarity(tfidf_matrix_content, tfidf_matrix_content)\n",
        "\n",
        "    # Find the index of the item\n",
        "    item_index = train_data[train_data['Name'] == item_name].index[0]\n",
        "\n",
        "    # Get the cosine similarity scores for the item\n",
        "    similar_items = list(enumerate(cosine_similarities_content[item_index]))\n",
        "\n",
        "    # Sort similar items by similarity score in descending order\n",
        "    similar_items = sorted(similar_items, key=lambda x: x[1], reverse=True)\n",
        "\n",
        "    # Get the top N most similar items (excluding the item itself)\n",
        "    top_similar_items = similar_items[1:top_n+1]\n",
        "\n",
        "    # Get the indices of the top similar items\n",
        "    recommended_item_indices = [x[0] for x in top_similar_items]\n",
        "\n",
        "    # Get the details of the top similar items\n",
        "    recommended_items_details = train_data.iloc[recommended_item_indices][['Name', 'ReviewCount', 'Brand', 'ImageURL', 'Rating']]\n",
        "\n",
        "    return recommended_items_details\n",
        "\n",
        "def rating_based_recommendation(train_data, budget=None, category=None):\n",
        "    if budget is not None:\n",
        "        train_data = train_data[train_data['Price'] <= budget]\n",
        "    if category is not None:\n",
        "        train_data = train_data[train_data['Category'].str.contains(category, case=False, na=False)]\n",
        "\n",
        "    average_ratings = train_data.groupby(['Name', 'ReviewCount', 'Brand', 'ImageURL'])['Rating'].mean().reset_index()\n",
        "    top_rated_items = average_ratings.sort_values(by='Rating', ascending=False)\n",
        "    rating_base_recommendation = top_rated_items.head(10)\n",
        "    rating_base_recommendation['Rating'] = rating_base_recommendation['Rating'].astype(int)\n",
        "    rating_base_recommendation['ReviewCount'] = rating_base_recommendation['ReviewCount'].astype(int)\n",
        "\n",
        "    return rating_base_recommendation[['Name', 'Rating', 'ReviewCount', 'Brand', 'ImageURL']]\n"
      ],
      "metadata": {
        "id": "jKytZSSxLQVT"
      },
      "execution_count": null,
      "outputs": []
    },
    {
      "cell_type": "code",
      "source": [
        "item_name = 'OPI Infinite Shine, Nail Lacquer Nail Polish, Bubble Bath'\n",
        "item_index = train_data[train_data['Name']==item_name].index[0]"
      ],
      "metadata": {
        "id": "hwUIauKuLZhR"
      },
      "execution_count": null,
      "outputs": []
    },
    {
      "cell_type": "code",
      "source": [
        "import pandas as pd\n",
        "from sklearn.feature_extraction.text import TfidfVectorizer\n",
        "from sklearn.metrics.pairwise import cosine_similarity\n",
        "\n",
        "def content_based_recommendation(train_data, item_name, budget=None, category=None):\n",
        "    if budget is not None:\n",
        "        train_data = train_data[train_data['Price'] <= budget]\n",
        "    if category is not None:\n",
        "        train_data = train_data[train_data['Category'].str.contains(category, case=False, na=False)]\n",
        "\n",
        "    tfidf_vectorizer = TfidfVectorizer(stop_words='english')\n",
        "    tfidf_matrix_content = tfidf_vectorizer.fit_transform(train_data['Tags'])\n",
        "    cosine_similarities_content = cosine_similarity(tfidf_matrix_content, tfidf_matrix_content)\n",
        "\n",
        "    item_index = train_data[train_data['Name'] == item_name].index[0]\n",
        "    similar_items = list(enumerate(cosine_similarities_content[item_index]))\n",
        "    similar_items = sorted(similar_items, key=lambda x: x[1], reverse=True)\n",
        "\n",
        "    top_similar_items = similar_items[1:10]\n",
        "    similar_item_indices = [i[0] for i in top_similar_items]\n",
        "    recommended_items = train_data.iloc[similar_item_indices]\n",
        "\n",
        "    return recommended_items[['Name', 'Rating', 'ReviewCount', 'Brand', 'ImageURL']]\n"
      ],
      "metadata": {
        "id": "CHlZfRSWLf94"
      },
      "execution_count": null,
      "outputs": []
    },
    {
      "cell_type": "code",
      "source": [
        "user_item_matrix = train_data.pivot_table(index='ID', columns='ProdID', values='Rating',aggfunc='mean').fillna(0).astype(int)"
      ],
      "metadata": {
        "id": "JKmaPMkgLkI1"
      },
      "execution_count": null,
      "outputs": []
    },
    {
      "cell_type": "code",
      "source": [
        "user_similarity = cosine_similarity(user_item_matrix)"
      ],
      "metadata": {
        "id": "pIRJVkiAN4Oo"
      },
      "execution_count": null,
      "outputs": []
    },
    {
      "cell_type": "code",
      "source": [
        "target_user_id = 4\n",
        "target_user_index = user_item_matrix.index.get_loc(target_user_id)"
      ],
      "metadata": {
        "id": "r325HEoROBlK"
      },
      "execution_count": null,
      "outputs": []
    },
    {
      "cell_type": "code",
      "source": [
        "user_similarities = user_similarity[target_user_index]\n",
        "\n",
        "similar_user_indices = user_similarities.argsort()[::-1][1:]"
      ],
      "metadata": {
        "id": "RaaBJ1YoOE_s"
      },
      "execution_count": null,
      "outputs": []
    },
    {
      "cell_type": "code",
      "source": [
        "recommend_items = []\n",
        "\n",
        "for user_index in similar_user_indices:\n",
        "    rated_by_similar_user = user_item_matrix.iloc[user_index]\n",
        "    not_rated_by_target_user = (rated_by_similar_user==0) & (user_item_matrix.iloc[target_user_index]==0)\n",
        "\n",
        "    recommend_items.extend(user_item_matrix.columns[not_rated_by_target_user][:10])\n",
        "\n",
        "recommended_items_details = train_data[train_data['ProdID'].isin(recommend_items)][['Name','ReviewCount','Brand','ImageURL','Rating']]"
      ],
      "metadata": {
        "id": "RYisGLnQOI0a"
      },
      "execution_count": null,
      "outputs": []
    },
    {
      "cell_type": "code",
      "source": [
        "recommended_items_details.head(10)"
      ],
      "metadata": {
        "colab": {
          "base_uri": "https://localhost:8080/",
          "height": 529
        },
        "id": "E_oB04dSOPS9",
        "outputId": "faee3fbf-6df1-48c3-f4c7-b5ebf19ad9bc"
      },
      "execution_count": null,
      "outputs": [
        {
          "output_type": "execute_result",
          "data": {
            "text/plain": [
              "                                                  Name  ReviewCount  \\\n",
              "33   DenTek Kids Fun Flossers, Removes Food & Plaqu...          3.0   \n",
              "61   COVERGIRL Exhibitionist Cream Lipstick, 395 Da...        713.0   \n",
              "85   BioAstin Hawaiian Astaxanthin, Vegan, 12mg, 75 Ct          3.0   \n",
              "86   LOreal Paris Feria Multi-Faceted Shimmering Pe...       2144.0   \n",
              "103   NEXXUS Color Assure Shampoo 13.50 oz (Pack of 4)       1720.0   \n",
              "108  OPI Nail Dipping Powder Perfection Combo - Liq...          1.0   \n",
              "144  Covidien Curity Maternity Pad Heavy 4.33&quot ...          0.0   \n",
              "152  (3 Pack) Tadin Boldo Herbal Tea (24 Teabags) /...          0.0   \n",
              "153  Unique Bargains Satin Silk Fitted Sheet 12&quo...          7.0   \n",
              "155  Crest 3D White Brilliance Mouthwash, Alcohol F...         63.0   \n",
              "\n",
              "                Brand                                           ImageURL  \\\n",
              "33             dentek  https://i5.walmartimages.com/asr/de6e52eb-6e18...   \n",
              "61          covergirl  https://i5.walmartimages.com/asr/95076ec0-ffbd...   \n",
              "85           bioastin  https://i5.walmartimages.com/asr/6da9e238-b19e...   \n",
              "86              paris  https://i5.walmartimages.com/asr/c229026a-2b75...   \n",
              "103            nexxus  https://i5.walmartimages.com/asr/0cf0b1f0-2908...   \n",
              "108               opi  https://i5.walmartimages.com/asr/ef1607ee-5bdb...   \n",
              "144          covidien  https://i5.walmartimages.com/asr/e4e38217-ed43...   \n",
              "152             tadin  https://i5.walmartimages.com/asr/074ad2ee-562b...   \n",
              "153  unique, bargains  https://i5.walmartimages.com/asr/6eab7660-6bd8...   \n",
              "155             crest  https://i5.walmartimages.com/asr/1fcc5525-9ae3...   \n",
              "\n",
              "     Rating  \n",
              "33      0.0  \n",
              "61      4.3  \n",
              "85      5.0  \n",
              "86      3.1  \n",
              "103     0.0  \n",
              "108     3.0  \n",
              "144     0.0  \n",
              "152     0.0  \n",
              "153     4.6  \n",
              "155     0.0  "
            ],
            "text/html": [
              "\n",
              "  <div id=\"df-9a121bc2-5893-49b5-a30b-fac1a3f3632b\" class=\"colab-df-container\">\n",
              "    <div>\n",
              "<style scoped>\n",
              "    .dataframe tbody tr th:only-of-type {\n",
              "        vertical-align: middle;\n",
              "    }\n",
              "\n",
              "    .dataframe tbody tr th {\n",
              "        vertical-align: top;\n",
              "    }\n",
              "\n",
              "    .dataframe thead th {\n",
              "        text-align: right;\n",
              "    }\n",
              "</style>\n",
              "<table border=\"1\" class=\"dataframe\">\n",
              "  <thead>\n",
              "    <tr style=\"text-align: right;\">\n",
              "      <th></th>\n",
              "      <th>Name</th>\n",
              "      <th>ReviewCount</th>\n",
              "      <th>Brand</th>\n",
              "      <th>ImageURL</th>\n",
              "      <th>Rating</th>\n",
              "    </tr>\n",
              "  </thead>\n",
              "  <tbody>\n",
              "    <tr>\n",
              "      <th>33</th>\n",
              "      <td>DenTek Kids Fun Flossers, Removes Food &amp; Plaqu...</td>\n",
              "      <td>3.0</td>\n",
              "      <td>dentek</td>\n",
              "      <td>https://i5.walmartimages.com/asr/de6e52eb-6e18...</td>\n",
              "      <td>0.0</td>\n",
              "    </tr>\n",
              "    <tr>\n",
              "      <th>61</th>\n",
              "      <td>COVERGIRL Exhibitionist Cream Lipstick, 395 Da...</td>\n",
              "      <td>713.0</td>\n",
              "      <td>covergirl</td>\n",
              "      <td>https://i5.walmartimages.com/asr/95076ec0-ffbd...</td>\n",
              "      <td>4.3</td>\n",
              "    </tr>\n",
              "    <tr>\n",
              "      <th>85</th>\n",
              "      <td>BioAstin Hawaiian Astaxanthin, Vegan, 12mg, 75 Ct</td>\n",
              "      <td>3.0</td>\n",
              "      <td>bioastin</td>\n",
              "      <td>https://i5.walmartimages.com/asr/6da9e238-b19e...</td>\n",
              "      <td>5.0</td>\n",
              "    </tr>\n",
              "    <tr>\n",
              "      <th>86</th>\n",
              "      <td>LOreal Paris Feria Multi-Faceted Shimmering Pe...</td>\n",
              "      <td>2144.0</td>\n",
              "      <td>paris</td>\n",
              "      <td>https://i5.walmartimages.com/asr/c229026a-2b75...</td>\n",
              "      <td>3.1</td>\n",
              "    </tr>\n",
              "    <tr>\n",
              "      <th>103</th>\n",
              "      <td>NEXXUS Color Assure Shampoo 13.50 oz (Pack of 4)</td>\n",
              "      <td>1720.0</td>\n",
              "      <td>nexxus</td>\n",
              "      <td>https://i5.walmartimages.com/asr/0cf0b1f0-2908...</td>\n",
              "      <td>0.0</td>\n",
              "    </tr>\n",
              "    <tr>\n",
              "      <th>108</th>\n",
              "      <td>OPI Nail Dipping Powder Perfection Combo - Liq...</td>\n",
              "      <td>1.0</td>\n",
              "      <td>opi</td>\n",
              "      <td>https://i5.walmartimages.com/asr/ef1607ee-5bdb...</td>\n",
              "      <td>3.0</td>\n",
              "    </tr>\n",
              "    <tr>\n",
              "      <th>144</th>\n",
              "      <td>Covidien Curity Maternity Pad Heavy 4.33&amp;quot ...</td>\n",
              "      <td>0.0</td>\n",
              "      <td>covidien</td>\n",
              "      <td>https://i5.walmartimages.com/asr/e4e38217-ed43...</td>\n",
              "      <td>0.0</td>\n",
              "    </tr>\n",
              "    <tr>\n",
              "      <th>152</th>\n",
              "      <td>(3 Pack) Tadin Boldo Herbal Tea (24 Teabags) /...</td>\n",
              "      <td>0.0</td>\n",
              "      <td>tadin</td>\n",
              "      <td>https://i5.walmartimages.com/asr/074ad2ee-562b...</td>\n",
              "      <td>0.0</td>\n",
              "    </tr>\n",
              "    <tr>\n",
              "      <th>153</th>\n",
              "      <td>Unique Bargains Satin Silk Fitted Sheet 12&amp;quo...</td>\n",
              "      <td>7.0</td>\n",
              "      <td>unique, bargains</td>\n",
              "      <td>https://i5.walmartimages.com/asr/6eab7660-6bd8...</td>\n",
              "      <td>4.6</td>\n",
              "    </tr>\n",
              "    <tr>\n",
              "      <th>155</th>\n",
              "      <td>Crest 3D White Brilliance Mouthwash, Alcohol F...</td>\n",
              "      <td>63.0</td>\n",
              "      <td>crest</td>\n",
              "      <td>https://i5.walmartimages.com/asr/1fcc5525-9ae3...</td>\n",
              "      <td>0.0</td>\n",
              "    </tr>\n",
              "  </tbody>\n",
              "</table>\n",
              "</div>\n",
              "    <div class=\"colab-df-buttons\">\n",
              "\n",
              "  <div class=\"colab-df-container\">\n",
              "    <button class=\"colab-df-convert\" onclick=\"convertToInteractive('df-9a121bc2-5893-49b5-a30b-fac1a3f3632b')\"\n",
              "            title=\"Convert this dataframe to an interactive table.\"\n",
              "            style=\"display:none;\">\n",
              "\n",
              "  <svg xmlns=\"http://www.w3.org/2000/svg\" height=\"24px\" viewBox=\"0 -960 960 960\">\n",
              "    <path d=\"M120-120v-720h720v720H120Zm60-500h600v-160H180v160Zm220 220h160v-160H400v160Zm0 220h160v-160H400v160ZM180-400h160v-160H180v160Zm440 0h160v-160H620v160ZM180-180h160v-160H180v160Zm440 0h160v-160H620v160Z\"/>\n",
              "  </svg>\n",
              "    </button>\n",
              "\n",
              "  <style>\n",
              "    .colab-df-container {\n",
              "      display:flex;\n",
              "      gap: 12px;\n",
              "    }\n",
              "\n",
              "    .colab-df-convert {\n",
              "      background-color: #E8F0FE;\n",
              "      border: none;\n",
              "      border-radius: 50%;\n",
              "      cursor: pointer;\n",
              "      display: none;\n",
              "      fill: #1967D2;\n",
              "      height: 32px;\n",
              "      padding: 0 0 0 0;\n",
              "      width: 32px;\n",
              "    }\n",
              "\n",
              "    .colab-df-convert:hover {\n",
              "      background-color: #E2EBFA;\n",
              "      box-shadow: 0px 1px 2px rgba(60, 64, 67, 0.3), 0px 1px 3px 1px rgba(60, 64, 67, 0.15);\n",
              "      fill: #174EA6;\n",
              "    }\n",
              "\n",
              "    .colab-df-buttons div {\n",
              "      margin-bottom: 4px;\n",
              "    }\n",
              "\n",
              "    [theme=dark] .colab-df-convert {\n",
              "      background-color: #3B4455;\n",
              "      fill: #D2E3FC;\n",
              "    }\n",
              "\n",
              "    [theme=dark] .colab-df-convert:hover {\n",
              "      background-color: #434B5C;\n",
              "      box-shadow: 0px 1px 3px 1px rgba(0, 0, 0, 0.15);\n",
              "      filter: drop-shadow(0px 1px 2px rgba(0, 0, 0, 0.3));\n",
              "      fill: #FFFFFF;\n",
              "    }\n",
              "  </style>\n",
              "\n",
              "    <script>\n",
              "      const buttonEl =\n",
              "        document.querySelector('#df-9a121bc2-5893-49b5-a30b-fac1a3f3632b button.colab-df-convert');\n",
              "      buttonEl.style.display =\n",
              "        google.colab.kernel.accessAllowed ? 'block' : 'none';\n",
              "\n",
              "      async function convertToInteractive(key) {\n",
              "        const element = document.querySelector('#df-9a121bc2-5893-49b5-a30b-fac1a3f3632b');\n",
              "        const dataTable =\n",
              "          await google.colab.kernel.invokeFunction('convertToInteractive',\n",
              "                                                    [key], {});\n",
              "        if (!dataTable) return;\n",
              "\n",
              "        const docLinkHtml = 'Like what you see? Visit the ' +\n",
              "          '<a target=\"_blank\" href=https://colab.research.google.com/notebooks/data_table.ipynb>data table notebook</a>'\n",
              "          + ' to learn more about interactive tables.';\n",
              "        element.innerHTML = '';\n",
              "        dataTable['output_type'] = 'display_data';\n",
              "        await google.colab.output.renderOutput(dataTable, element);\n",
              "        const docLink = document.createElement('div');\n",
              "        docLink.innerHTML = docLinkHtml;\n",
              "        element.appendChild(docLink);\n",
              "      }\n",
              "    </script>\n",
              "  </div>\n",
              "\n",
              "\n",
              "<div id=\"df-1ab89157-0de7-4368-915a-680f031e4791\">\n",
              "  <button class=\"colab-df-quickchart\" onclick=\"quickchart('df-1ab89157-0de7-4368-915a-680f031e4791')\"\n",
              "            title=\"Suggest charts\"\n",
              "            style=\"display:none;\">\n",
              "\n",
              "<svg xmlns=\"http://www.w3.org/2000/svg\" height=\"24px\"viewBox=\"0 0 24 24\"\n",
              "     width=\"24px\">\n",
              "    <g>\n",
              "        <path d=\"M19 3H5c-1.1 0-2 .9-2 2v14c0 1.1.9 2 2 2h14c1.1 0 2-.9 2-2V5c0-1.1-.9-2-2-2zM9 17H7v-7h2v7zm4 0h-2V7h2v10zm4 0h-2v-4h2v4z\"/>\n",
              "    </g>\n",
              "</svg>\n",
              "  </button>\n",
              "\n",
              "<style>\n",
              "  .colab-df-quickchart {\n",
              "      --bg-color: #E8F0FE;\n",
              "      --fill-color: #1967D2;\n",
              "      --hover-bg-color: #E2EBFA;\n",
              "      --hover-fill-color: #174EA6;\n",
              "      --disabled-fill-color: #AAA;\n",
              "      --disabled-bg-color: #DDD;\n",
              "  }\n",
              "\n",
              "  [theme=dark] .colab-df-quickchart {\n",
              "      --bg-color: #3B4455;\n",
              "      --fill-color: #D2E3FC;\n",
              "      --hover-bg-color: #434B5C;\n",
              "      --hover-fill-color: #FFFFFF;\n",
              "      --disabled-bg-color: #3B4455;\n",
              "      --disabled-fill-color: #666;\n",
              "  }\n",
              "\n",
              "  .colab-df-quickchart {\n",
              "    background-color: var(--bg-color);\n",
              "    border: none;\n",
              "    border-radius: 50%;\n",
              "    cursor: pointer;\n",
              "    display: none;\n",
              "    fill: var(--fill-color);\n",
              "    height: 32px;\n",
              "    padding: 0;\n",
              "    width: 32px;\n",
              "  }\n",
              "\n",
              "  .colab-df-quickchart:hover {\n",
              "    background-color: var(--hover-bg-color);\n",
              "    box-shadow: 0 1px 2px rgba(60, 64, 67, 0.3), 0 1px 3px 1px rgba(60, 64, 67, 0.15);\n",
              "    fill: var(--button-hover-fill-color);\n",
              "  }\n",
              "\n",
              "  .colab-df-quickchart-complete:disabled,\n",
              "  .colab-df-quickchart-complete:disabled:hover {\n",
              "    background-color: var(--disabled-bg-color);\n",
              "    fill: var(--disabled-fill-color);\n",
              "    box-shadow: none;\n",
              "  }\n",
              "\n",
              "  .colab-df-spinner {\n",
              "    border: 2px solid var(--fill-color);\n",
              "    border-color: transparent;\n",
              "    border-bottom-color: var(--fill-color);\n",
              "    animation:\n",
              "      spin 1s steps(1) infinite;\n",
              "  }\n",
              "\n",
              "  @keyframes spin {\n",
              "    0% {\n",
              "      border-color: transparent;\n",
              "      border-bottom-color: var(--fill-color);\n",
              "      border-left-color: var(--fill-color);\n",
              "    }\n",
              "    20% {\n",
              "      border-color: transparent;\n",
              "      border-left-color: var(--fill-color);\n",
              "      border-top-color: var(--fill-color);\n",
              "    }\n",
              "    30% {\n",
              "      border-color: transparent;\n",
              "      border-left-color: var(--fill-color);\n",
              "      border-top-color: var(--fill-color);\n",
              "      border-right-color: var(--fill-color);\n",
              "    }\n",
              "    40% {\n",
              "      border-color: transparent;\n",
              "      border-right-color: var(--fill-color);\n",
              "      border-top-color: var(--fill-color);\n",
              "    }\n",
              "    60% {\n",
              "      border-color: transparent;\n",
              "      border-right-color: var(--fill-color);\n",
              "    }\n",
              "    80% {\n",
              "      border-color: transparent;\n",
              "      border-right-color: var(--fill-color);\n",
              "      border-bottom-color: var(--fill-color);\n",
              "    }\n",
              "    90% {\n",
              "      border-color: transparent;\n",
              "      border-bottom-color: var(--fill-color);\n",
              "    }\n",
              "  }\n",
              "</style>\n",
              "\n",
              "  <script>\n",
              "    async function quickchart(key) {\n",
              "      const quickchartButtonEl =\n",
              "        document.querySelector('#' + key + ' button');\n",
              "      quickchartButtonEl.disabled = true;  // To prevent multiple clicks.\n",
              "      quickchartButtonEl.classList.add('colab-df-spinner');\n",
              "      try {\n",
              "        const charts = await google.colab.kernel.invokeFunction(\n",
              "            'suggestCharts', [key], {});\n",
              "      } catch (error) {\n",
              "        console.error('Error during call to suggestCharts:', error);\n",
              "      }\n",
              "      quickchartButtonEl.classList.remove('colab-df-spinner');\n",
              "      quickchartButtonEl.classList.add('colab-df-quickchart-complete');\n",
              "    }\n",
              "    (() => {\n",
              "      let quickchartButtonEl =\n",
              "        document.querySelector('#df-1ab89157-0de7-4368-915a-680f031e4791 button');\n",
              "      quickchartButtonEl.style.display =\n",
              "        google.colab.kernel.accessAllowed ? 'block' : 'none';\n",
              "    })();\n",
              "  </script>\n",
              "</div>\n",
              "\n",
              "    </div>\n",
              "  </div>\n"
            ],
            "application/vnd.google.colaboratory.intrinsic+json": {
              "type": "dataframe",
              "variable_name": "recommended_items_details",
              "summary": "{\n  \"name\": \"recommended_items_details\",\n  \"rows\": 368,\n  \"fields\": [\n    {\n      \"column\": \"Name\",\n      \"properties\": {\n        \"dtype\": \"string\",\n        \"num_unique_values\": 362,\n        \"samples\": [\n          \"$6 Mail-In Rebate Available Braun Epilator Silk-epil 3-270 with Bikini Trimmer and 3 Extras\",\n          \"LOreal Paris True Match Super-Blendable Foundation Makeup, Oil Free, Chocolate N11, 1 fl. oz.\",\n          \"Comvita Certified UMF 20+ Manuka Honey, Raw & Wild, 8.8 oz\"\n        ],\n        \"semantic_type\": \"\",\n        \"description\": \"\"\n      }\n    },\n    {\n      \"column\": \"ReviewCount\",\n      \"properties\": {\n        \"dtype\": \"number\",\n        \"std\": 2079.2656933280587,\n        \"min\": 0.0,\n        \"max\": 27658.0,\n        \"num_unique_values\": 131,\n        \"samples\": [\n          17.0,\n          586.0,\n          214.0\n        ],\n        \"semantic_type\": \"\",\n        \"description\": \"\"\n      }\n    },\n    {\n      \"column\": \"Brand\",\n      \"properties\": {\n        \"dtype\": \"string\",\n        \"num_unique_values\": 257,\n        \"samples\": [\n          \"renuzit\",\n          \"ariel\",\n          \"10\"\n        ],\n        \"semantic_type\": \"\",\n        \"description\": \"\"\n      }\n    },\n    {\n      \"column\": \"ImageURL\",\n      \"properties\": {\n        \"dtype\": \"string\",\n        \"num_unique_values\": 366,\n        \"samples\": [\n          \"https://i5.walmartimages.com/asr/2f029273-a339-4c2c-b635-9c7a9a49dad6.00237a571a91353a11e1c54fe24ea4c0.jpeg | https://i5.walmartimages.com/asr/61e75047-4fd8-40ef-a6a4-9318e00e806a.0db2e6815a5c2475d66cc7cf8e27881f.jpeg | https://i5.walmartimages.com/asr/2847e047-12b1-4754-be06-edbfad486429.0c5a532cd4bdd43fa3170a624cab6593.jpeg | https://i5.walmartimages.com/asr/e4d01cda-c425-4e65-b12f-bff4214b0fa7.d6cf6075d6e1028a793f3fd4cb37bd83.jpeg | https://i5.walmartimages.com/asr/5ee49178-93f3-459a-86dd-299231b16bf6.c9ffce7620fbdc5a1cb9be11d37a84df.jpeg | https://i5.walmartimages.com/asr/91c44d9f-3546-43b5-b7a6-000cc5a95f16.340a56d8233f73f0a749a21387124724.jpeg\",\n          \"https://i5.walmartimages.com/asr/808edb8f-f0fc-4fce-8eb2-544826932709_1.1c060463c79c752b83b7915b7af87f03.jpeg | https://i5.walmartimages.com/asr/528a58fb-0377-4c91-8a9b-0e282e1d3e38_1.fc59f7a3297b7b157cba7fc332ac0b9b.jpeg | https://i5.walmartimages.com/asr/a411e93e-8f93-4976-be6d-20be20ec2abe_1.f7455ee05358acf1a93c3126205bbf18.jpeg | https://i5.walmartimages.com/asr/d6275af9-dc63-4821-86fe-c93cef7f2dba_1.cd268d223a69e72488fe69e071ddd539.jpeg | https://i5.walmartimages.com/asr/aef783e2-e7e6-4d70-a41d-cf31872fc9b3_1.d3977e14da5d98d9c0febf9ca853d9fc.jpeg\",\n          \"https://i5.walmartimages.com/asr/3cdc1498-a2ac-4e19-98b9-4f0b98acb14b_2.7042346a3a30182ee26d82fcdd89d0fc.png | https://i5.walmartimages.com/asr/af118c32-914c-4181-84e2-2bc845b56f12_2.7617d4cf4fe7654cc15ec9487b52dfee.png\"\n        ],\n        \"semantic_type\": \"\",\n        \"description\": \"\"\n      }\n    },\n    {\n      \"column\": \"Rating\",\n      \"properties\": {\n        \"dtype\": \"number\",\n        \"std\": 2.183810269318839,\n        \"min\": 0.0,\n        \"max\": 5.0,\n        \"num_unique_values\": 24,\n        \"samples\": [\n          1.0,\n          4.7,\n          0.0\n        ],\n        \"semantic_type\": \"\",\n        \"description\": \"\"\n      }\n    }\n  ]\n}"
            }
          },
          "metadata": {},
          "execution_count": 82
        }
      ]
    },
    {
      "source": [
        "# @title ReviewCount\n",
        "\n",
        "from matplotlib import pyplot as plt\n",
        "recommended_items_details['ReviewCount'].plot(kind='line', figsize=(8, 4), title='ReviewCount')\n",
        "plt.gca().spines[['top', 'right']].set_visible(False)"
      ],
      "cell_type": "code",
      "execution_count": null,
      "outputs": [
        {
          "output_type": "display_data",
          "data": {
            "text/plain": [
              "<Figure size 800x400 with 1 Axes>"
            ],
            "image/png": "[encoded data removed]"
          },
          "metadata": {}
        }
      ],
      "metadata": {
        "colab": {
          "base_uri": "https://localhost:8080/",
          "height": 391
        },
        "id": "AqALoRn6SAE6",
        "outputId": "eb62f1dd-3bb9-434d-bde4-112f10a2bedb"
      }
    },
    {
      "source": [
        "# @title Rating\n",
        "\n",
        "from matplotlib import pyplot as plt\n",
        "recommended_items_details['Rating'].plot(kind='hist', bins=20, title='Rating')\n",
        "plt.gca().spines[['top', 'right',]].set_visible(False)"
      ],
      "cell_type": "code",
      "execution_count": null,
      "outputs": [
        {
          "output_type": "display_data",
          "data": {
            "text/plain": [
              "<Figure size 640x480 with 1 Axes>"
            ],
            "image/png": "[encoded data removed]"
          },
          "metadata": {}
        }
      ],
      "metadata": {
        "colab": {
          "base_uri": "https://localhost:8080/",
          "height": 452
        },
        "id": "QkwCKbJiR34z",
        "outputId": "22df261c-1b89-41c4-e0ee-c565626d8574"
      }
    },
    {
      "cell_type": "markdown",
      "source": [
        "Function To Recommend Products for Content Base\n"
      ],
      "metadata": {
        "id": "IjJ3Z_WTQ2of"
      }
    },
    {
      "cell_type": "code",
      "source": [
        "import pandas as pd\n",
        "from sklearn.feature_extraction.text import TfidfVectorizer\n",
        "from sklearn.metrics.pairwise import cosine_similarity\n",
        "\n",
        "def content_based_recommendations(train_data, item_name, top_n=10):\n",
        "    # Check if the item name exists in the training data\n",
        "    if item_name not in train_data['Name'].values:\n",
        "        print(f\"Item '{item_name}' not found in the training data.\")\n",
        "        return pd.DataFrame()\n",
        "\n",
        "    # Create a TF-IDF vectorizer for item descriptions\n",
        "    tfidf_vectorizer = TfidfVectorizer(stop_words='english')\n",
        "\n",
        "    # Apply TF-IDF vectorization to item descriptions\n",
        "    tfidf_matrix_content = tfidf_vectorizer.fit_transform(train_data['Tags'])\n",
        "\n",
        "    # Calculate cosine similarity between items based on descriptions\n",
        "    cosine_similarities_content = cosine_similarity(tfidf_matrix_content, tfidf_matrix_content)\n",
        "\n",
        "    # Find the index of the item\n",
        "    item_index = train_data[train_data['Name'] == item_name].index[0]\n",
        "\n",
        "    # Get the cosine similarity scores for the item\n",
        "    similar_items = list(enumerate(cosine_similarities_content[item_index]))\n",
        "\n",
        "    # Sort similar items by similarity score in descending order\n",
        "    similar_items = sorted(similar_items, key=lambda x: x[1], reverse=True)\n",
        "\n",
        "    # Get the top N most similar items (excluding the item itself)\n",
        "    top_similar_items = similar_items[1:top_n+1]\n",
        "\n",
        "    # Get the indices of the top similar items\n",
        "    recommended_item_indices = [x[0] for x in top_similar_items]\n",
        "\n",
        "    # Get the details of the top similar items\n",
        "    recommended_items_details = train_data.iloc[recommended_item_indices][['Name', 'ReviewCount', 'Brand', 'ImageURL', 'Rating']]\n",
        "\n",
        "    return recommended_items_details\n",
        "\n",
        "def rating_based_recommendation(train_data, budget=None, category=None):\n",
        "    if budget is not None:\n",
        "        train_data = train_data[train_data['Price'] <= budget]\n",
        "    if category is not None:\n",
        "        train_data = train_data[train_data['Category'].str.contains(category, case=False, na=False)]\n",
        "\n",
        "    average_ratings = train_data.groupby(['Name', 'ReviewCount', 'Brand', 'ImageURL'])['Rating'].mean().reset_index()\n",
        "    top_rated_items = average_ratings.sort_values(by='Rating', ascending=False)\n",
        "    rating_base_recommendation = top_rated_items.head(10)\n",
        "    rating_base_recommendation['Rating'] = rating_base_recommendation['Rating'].astype(int)\n",
        "    rating_base_recommendation['ReviewCount'] = rating_base_recommendation['ReviewCount'].astype(int)\n",
        "\n",
        "    return rating_base_recommendation[['Name', 'Rating', 'ReviewCount', 'Brand', 'ImageURL']]\n"
      ],
      "metadata": {
        "id": "zjXL0bptOUye"
      },
      "execution_count": null,
      "outputs": []
    },
    {
      "cell_type": "code",
      "source": [
        "# Hybrid Recommendations (Combine Content-Based and Collaborative Filtering)\n",
        "def hybrid_recommendations(train_data,target_user_id, item_name, top_n=10):\n",
        "    # Get content-based recommendations\n",
        "    content_based_rec = content_based_recommendations(train_data,item_name, top_n)\n",
        "\n",
        "    # Get collaborative filtering recommendations\n",
        "    collaborative_filtering_rec = collaborative_filtering_recommendations(train_data,target_user_id, top_n)\n",
        "\n",
        "    # Merge and deduplicate the recommendations\n",
        "    hybrid_rec = pd.concat([content_based_rec, collaborative_filtering_rec]).drop_duplicates()\n",
        "\n",
        "    return hybrid_rec.head(10)"
      ],
      "metadata": {
        "id": "rgI-g0L1OYjA"
      },
      "execution_count": null,
      "outputs": []
    }
  ]
}